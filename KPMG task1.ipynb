{
 "cells": [
  {
   "cell_type": "markdown",
   "id": "bb93db4b",
   "metadata": {},
   "source": [
    "# KPMG VIRTUAL INTERNSHIP TASK -1¶\n",
    "### Task - Data Quality Assignment\n",
    "Sprocket Central Pty Ltd , a medium size bikes & cycling accessories organisation, has approached Tony Smith (Partner) in KPMG’s Lighthouse & Innovation Team. Sprocket Central Pty Ltd is keen to learn more about KPMG’s expertise in its Analytics, Information & Modelling team.\n",
    "\n",
    "Smith discusses KPMG’s expertise in this space. In particular, he speaks about how the team can effectively analyse the datasets to help Sprocket Central Pty Ltd grow its business.\n",
    "\n",
    "Primarily, Sprocket Central Pty Ltd needs help with its customer and transactions data. The organisation has a large dataset relating to its customers, but their team is unsure how to effectively analyse it to help optimise its marketing strategy.\n",
    "\n",
    "However, in order to support the analysis, you speak to the Associate Director for some ideas and she advised that “the importance of optimising the quality of customer datasets cannot be underestimated. The better the quality of the dataset, the better chance you will be able to use it drive company growth.”\n",
    "\n",
    "please find the 3 datasets attached from Sprocket Central Pty Ltd:\n",
    "\n",
    "* Customer Demographic\n",
    "* Customer Addresses\n",
    "* Transaction data in the past three months\n",
    "Can you please review the data quality to ensure that it is ready for our analysis in phase two.\n",
    "#### Now let’s import the necessary Python libraries and the dataset to get started with the task 1"
   ]
  },
  {
   "cell_type": "code",
   "execution_count": 1,
   "id": "63c0edf1",
   "metadata": {},
   "outputs": [],
   "source": [
    "import pandas as pd"
   ]
  },
  {
   "cell_type": "code",
   "execution_count": 2,
   "id": "050ceba1",
   "metadata": {},
   "outputs": [],
   "source": [
    "Data = pd.ExcelFile(\"KPMG_VI_New_raw_data_update_final one.xlsx\")"
   ]
  },
  {
   "cell_type": "code",
   "execution_count": 3,
   "id": "bcbb1332",
   "metadata": {},
   "outputs": [
    {
     "name": "stderr",
     "output_type": "stream",
     "text": [
      "C:\\Users\\hp\\AppData\\Local\\Temp\\ipykernel_14364\\2861577310.py:3: FutureWarning: Inferring datetime64[ns] from data containing strings is deprecated and will be removed in a future version. To retain the old behavior explicitly pass Series(data, dtype=datetime64[ns])\n",
      "  NewCustomerList=pd.read_excel(Data, 'NewCustomerList')\n",
      "C:\\Users\\hp\\AppData\\Local\\Temp\\ipykernel_14364\\2861577310.py:4: FutureWarning: Inferring datetime64[ns] from data containing strings is deprecated and will be removed in a future version. To retain the old behavior explicitly pass Series(data, dtype=datetime64[ns])\n",
      "  CustomerDemographic=pd.read_excel(Data, 'CustomerDemographic')\n"
     ]
    }
   ],
   "source": [
    "#reading of each file seperatly\n",
    "Transactions=pd.read_excel(Data, 'Transactions')\n",
    "NewCustomerList=pd.read_excel(Data, 'NewCustomerList')\n",
    "CustomerDemographic=pd.read_excel(Data, 'CustomerDemographic')\n",
    "CustomerAddress=pd.read_excel(Data, 'CustomerAddress')\n"
   ]
  },
  {
   "cell_type": "markdown",
   "id": "f111261b",
   "metadata": {},
   "source": [
    "#### Explore the data: Start by examining the structure and content of the dataset. Use methods like head(), info(), and describe() to get an overview.\n",
    "\n",
    "* head(): The head() function is used to display the first few rows of a DataFrame or a Series. It provides a quick overview of the dataset, showing the column names and a sample of the data. By default, it displays the first 5 rows, but you can specify a different number of rows to be shown. It helps in quickly inspecting the structure and content of the dataset.\n",
    "\n",
    "* info(): The info() function provides a concise summary of a DataFrame. It displays information about the column names, data types, non-null values, and memory usage. It is particularly useful for checking the data types of each column, identifying missing or null values, and understanding the overall structure of the dataset. It helps in understanding the data quality and identifying potential issues or inconsistencies.\n",
    "\n",
    "* describe(): The describe() function generates descriptive statistics of a DataFrame or Series. It provides statistical measures such as count, mean, standard deviation, minimum, maximum, and quartiles for numeric columns. It helps in understanding the distribution and basic statistical properties of the data, detecting outliers, and identifying any data issues or anomalies.\n",
    "\n",
    "* shape: Returns the dimensions of the dataset (number of rows and columns).\n",
    "\n",
    "* columns: Returns the column labels of the dataset.\n",
    "\n",
    "* dtypes: Returns the data types of each column.\n",
    "\n",
    "* isnull: Returns a boolean mask indicating missing values in the dataset.\n",
    "\n",
    "* value_counts: Returns the frequency count of unique values in a column.\n",
    "\n",
    "* unique: Returns the unique values in a column.\n",
    "\n",
    "* nunique: Returns the number of unique values in each column.\n"
   ]
  },
  {
   "cell_type": "markdown",
   "id": "4e137fe1",
   "metadata": {},
   "source": [
    "### Transactions Dataset"
   ]
  },
  {
   "cell_type": "code",
   "execution_count": 4,
   "id": "e1475c9a",
   "metadata": {},
   "outputs": [
    {
     "data": {
      "text/html": [
       "<div>\n",
       "<style scoped>\n",
       "    .dataframe tbody tr th:only-of-type {\n",
       "        vertical-align: middle;\n",
       "    }\n",
       "\n",
       "    .dataframe tbody tr th {\n",
       "        vertical-align: top;\n",
       "    }\n",
       "\n",
       "    .dataframe thead th {\n",
       "        text-align: right;\n",
       "    }\n",
       "</style>\n",
       "<table border=\"1\" class=\"dataframe\">\n",
       "  <thead>\n",
       "    <tr style=\"text-align: right;\">\n",
       "      <th></th>\n",
       "      <th>transaction_id</th>\n",
       "      <th>product_id</th>\n",
       "      <th>customer_id</th>\n",
       "      <th>transaction_date</th>\n",
       "      <th>online_order</th>\n",
       "      <th>order_status</th>\n",
       "      <th>brand</th>\n",
       "      <th>product_line</th>\n",
       "      <th>product_class</th>\n",
       "      <th>product_size</th>\n",
       "      <th>list_price</th>\n",
       "      <th>standard_cost</th>\n",
       "      <th>product_first_sold_date</th>\n",
       "    </tr>\n",
       "  </thead>\n",
       "  <tbody>\n",
       "    <tr>\n",
       "      <th>0</th>\n",
       "      <td>1</td>\n",
       "      <td>2</td>\n",
       "      <td>2950</td>\n",
       "      <td>2017-02-25</td>\n",
       "      <td>0.0</td>\n",
       "      <td>Approved</td>\n",
       "      <td>Solex</td>\n",
       "      <td>Standard</td>\n",
       "      <td>medium</td>\n",
       "      <td>medium</td>\n",
       "      <td>71.49</td>\n",
       "      <td>53.62</td>\n",
       "      <td>41245.0</td>\n",
       "    </tr>\n",
       "    <tr>\n",
       "      <th>1</th>\n",
       "      <td>2</td>\n",
       "      <td>3</td>\n",
       "      <td>3120</td>\n",
       "      <td>2017-05-21</td>\n",
       "      <td>1.0</td>\n",
       "      <td>Approved</td>\n",
       "      <td>Trek Bicycles</td>\n",
       "      <td>Standard</td>\n",
       "      <td>medium</td>\n",
       "      <td>large</td>\n",
       "      <td>2091.47</td>\n",
       "      <td>388.92</td>\n",
       "      <td>41701.0</td>\n",
       "    </tr>\n",
       "    <tr>\n",
       "      <th>2</th>\n",
       "      <td>3</td>\n",
       "      <td>37</td>\n",
       "      <td>402</td>\n",
       "      <td>2017-10-16</td>\n",
       "      <td>0.0</td>\n",
       "      <td>Approved</td>\n",
       "      <td>OHM Cycles</td>\n",
       "      <td>Standard</td>\n",
       "      <td>low</td>\n",
       "      <td>medium</td>\n",
       "      <td>1793.43</td>\n",
       "      <td>248.82</td>\n",
       "      <td>36361.0</td>\n",
       "    </tr>\n",
       "    <tr>\n",
       "      <th>3</th>\n",
       "      <td>4</td>\n",
       "      <td>88</td>\n",
       "      <td>3135</td>\n",
       "      <td>2017-08-31</td>\n",
       "      <td>0.0</td>\n",
       "      <td>Approved</td>\n",
       "      <td>Norco Bicycles</td>\n",
       "      <td>Standard</td>\n",
       "      <td>medium</td>\n",
       "      <td>medium</td>\n",
       "      <td>1198.46</td>\n",
       "      <td>381.10</td>\n",
       "      <td>36145.0</td>\n",
       "    </tr>\n",
       "    <tr>\n",
       "      <th>4</th>\n",
       "      <td>5</td>\n",
       "      <td>78</td>\n",
       "      <td>787</td>\n",
       "      <td>2017-10-01</td>\n",
       "      <td>1.0</td>\n",
       "      <td>Approved</td>\n",
       "      <td>Giant Bicycles</td>\n",
       "      <td>Standard</td>\n",
       "      <td>medium</td>\n",
       "      <td>large</td>\n",
       "      <td>1765.30</td>\n",
       "      <td>709.48</td>\n",
       "      <td>42226.0</td>\n",
       "    </tr>\n",
       "  </tbody>\n",
       "</table>\n",
       "</div>"
      ],
      "text/plain": [
       "   transaction_id  product_id  customer_id transaction_date  online_order  \\\n",
       "0               1           2         2950       2017-02-25           0.0   \n",
       "1               2           3         3120       2017-05-21           1.0   \n",
       "2               3          37          402       2017-10-16           0.0   \n",
       "3               4          88         3135       2017-08-31           0.0   \n",
       "4               5          78          787       2017-10-01           1.0   \n",
       "\n",
       "  order_status           brand product_line product_class product_size  \\\n",
       "0     Approved           Solex     Standard        medium       medium   \n",
       "1     Approved   Trek Bicycles     Standard        medium        large   \n",
       "2     Approved      OHM Cycles     Standard           low       medium   \n",
       "3     Approved  Norco Bicycles     Standard        medium       medium   \n",
       "4     Approved  Giant Bicycles     Standard        medium        large   \n",
       "\n",
       "   list_price  standard_cost  product_first_sold_date  \n",
       "0       71.49          53.62                  41245.0  \n",
       "1     2091.47         388.92                  41701.0  \n",
       "2     1793.43         248.82                  36361.0  \n",
       "3     1198.46         381.10                  36145.0  \n",
       "4     1765.30         709.48                  42226.0  "
      ]
     },
     "execution_count": 4,
     "metadata": {},
     "output_type": "execute_result"
    }
   ],
   "source": [
    "Transactions.head(5)"
   ]
  },
  {
   "cell_type": "code",
   "execution_count": 5,
   "id": "885f3d30",
   "metadata": {},
   "outputs": [
    {
     "name": "stdout",
     "output_type": "stream",
     "text": [
      "<class 'pandas.core.frame.DataFrame'>\n",
      "RangeIndex: 20000 entries, 0 to 19999\n",
      "Data columns (total 13 columns):\n",
      " #   Column                   Non-Null Count  Dtype         \n",
      "---  ------                   --------------  -----         \n",
      " 0   transaction_id           20000 non-null  int64         \n",
      " 1   product_id               20000 non-null  int64         \n",
      " 2   customer_id              20000 non-null  int64         \n",
      " 3   transaction_date         20000 non-null  datetime64[ns]\n",
      " 4   online_order             19640 non-null  float64       \n",
      " 5   order_status             20000 non-null  object        \n",
      " 6   brand                    19803 non-null  object        \n",
      " 7   product_line             19803 non-null  object        \n",
      " 8   product_class            19803 non-null  object        \n",
      " 9   product_size             19803 non-null  object        \n",
      " 10  list_price               20000 non-null  float64       \n",
      " 11  standard_cost            19803 non-null  float64       \n",
      " 12  product_first_sold_date  19803 non-null  float64       \n",
      "dtypes: datetime64[ns](1), float64(4), int64(3), object(5)\n",
      "memory usage: 2.0+ MB\n"
     ]
    }
   ],
   "source": [
    "Transactions.info()"
   ]
  },
  {
   "cell_type": "code",
   "execution_count": 6,
   "id": "6447c0c1",
   "metadata": {},
   "outputs": [
    {
     "data": {
      "text/plain": [
       "<bound method NDFrame.describe of        transaction_id  product_id  customer_id transaction_date  online_order  \\\n",
       "0                   1           2         2950       2017-02-25           0.0   \n",
       "1                   2           3         3120       2017-05-21           1.0   \n",
       "2                   3          37          402       2017-10-16           0.0   \n",
       "3                   4          88         3135       2017-08-31           0.0   \n",
       "4                   5          78          787       2017-10-01           1.0   \n",
       "...               ...         ...          ...              ...           ...   \n",
       "19995           19996          51         1018       2017-06-24           1.0   \n",
       "19996           19997          41          127       2017-11-09           1.0   \n",
       "19997           19998          87         2284       2017-04-14           1.0   \n",
       "19998           19999           6         2764       2017-07-03           0.0   \n",
       "19999           20000          11         1144       2017-09-22           1.0   \n",
       "\n",
       "      order_status           brand product_line product_class product_size  \\\n",
       "0         Approved           Solex     Standard        medium       medium   \n",
       "1         Approved   Trek Bicycles     Standard        medium        large   \n",
       "2         Approved      OHM Cycles     Standard           low       medium   \n",
       "3         Approved  Norco Bicycles     Standard        medium       medium   \n",
       "4         Approved  Giant Bicycles     Standard        medium        large   \n",
       "...            ...             ...          ...           ...          ...   \n",
       "19995     Approved      OHM Cycles     Standard          high       medium   \n",
       "19996     Approved           Solex         Road        medium       medium   \n",
       "19997     Approved      OHM Cycles     Standard        medium       medium   \n",
       "19998     Approved      OHM Cycles     Standard          high       medium   \n",
       "19999     Approved   Trek Bicycles     Standard        medium        small   \n",
       "\n",
       "       list_price  standard_cost  product_first_sold_date  \n",
       "0           71.49          53.62                  41245.0  \n",
       "1         2091.47         388.92                  41701.0  \n",
       "2         1793.43         248.82                  36361.0  \n",
       "3         1198.46         381.10                  36145.0  \n",
       "4         1765.30         709.48                  42226.0  \n",
       "...           ...            ...                      ...  \n",
       "19995     2005.66        1203.40                  37823.0  \n",
       "19996      416.98         312.74                  35560.0  \n",
       "19997     1636.90          44.71                  40410.0  \n",
       "19998      227.88         136.73                  38216.0  \n",
       "19999     1775.81        1580.47                  36334.0  \n",
       "\n",
       "[20000 rows x 13 columns]>"
      ]
     },
     "execution_count": 6,
     "metadata": {},
     "output_type": "execute_result"
    }
   ],
   "source": [
    "Transactions.describe"
   ]
  },
  {
   "cell_type": "code",
   "execution_count": 7,
   "id": "7f7eb35a",
   "metadata": {},
   "outputs": [
    {
     "data": {
      "text/html": [
       "<div>\n",
       "<style scoped>\n",
       "    .dataframe tbody tr th:only-of-type {\n",
       "        vertical-align: middle;\n",
       "    }\n",
       "\n",
       "    .dataframe tbody tr th {\n",
       "        vertical-align: top;\n",
       "    }\n",
       "\n",
       "    .dataframe thead th {\n",
       "        text-align: right;\n",
       "    }\n",
       "</style>\n",
       "<table border=\"1\" class=\"dataframe\">\n",
       "  <thead>\n",
       "    <tr style=\"text-align: right;\">\n",
       "      <th></th>\n",
       "      <th>transaction_id</th>\n",
       "      <th>product_id</th>\n",
       "      <th>customer_id</th>\n",
       "      <th>transaction_date</th>\n",
       "      <th>online_order</th>\n",
       "      <th>order_status</th>\n",
       "      <th>brand</th>\n",
       "      <th>product_line</th>\n",
       "      <th>product_class</th>\n",
       "      <th>product_size</th>\n",
       "      <th>list_price</th>\n",
       "      <th>standard_cost</th>\n",
       "      <th>product_first_sold_date</th>\n",
       "    </tr>\n",
       "  </thead>\n",
       "  <tbody>\n",
       "    <tr>\n",
       "      <th>0</th>\n",
       "      <td>1</td>\n",
       "      <td>2</td>\n",
       "      <td>2950</td>\n",
       "      <td>2017-02-25</td>\n",
       "      <td>0.0</td>\n",
       "      <td>Approved</td>\n",
       "      <td>Solex</td>\n",
       "      <td>Standard</td>\n",
       "      <td>medium</td>\n",
       "      <td>medium</td>\n",
       "      <td>71.49</td>\n",
       "      <td>53.62</td>\n",
       "      <td>41245.0</td>\n",
       "    </tr>\n",
       "    <tr>\n",
       "      <th>1</th>\n",
       "      <td>2</td>\n",
       "      <td>3</td>\n",
       "      <td>3120</td>\n",
       "      <td>2017-05-21</td>\n",
       "      <td>1.0</td>\n",
       "      <td>Approved</td>\n",
       "      <td>Trek Bicycles</td>\n",
       "      <td>Standard</td>\n",
       "      <td>medium</td>\n",
       "      <td>large</td>\n",
       "      <td>2091.47</td>\n",
       "      <td>388.92</td>\n",
       "      <td>41701.0</td>\n",
       "    </tr>\n",
       "    <tr>\n",
       "      <th>2</th>\n",
       "      <td>3</td>\n",
       "      <td>37</td>\n",
       "      <td>402</td>\n",
       "      <td>2017-10-16</td>\n",
       "      <td>0.0</td>\n",
       "      <td>Approved</td>\n",
       "      <td>OHM Cycles</td>\n",
       "      <td>Standard</td>\n",
       "      <td>low</td>\n",
       "      <td>medium</td>\n",
       "      <td>1793.43</td>\n",
       "      <td>248.82</td>\n",
       "      <td>36361.0</td>\n",
       "    </tr>\n",
       "    <tr>\n",
       "      <th>3</th>\n",
       "      <td>4</td>\n",
       "      <td>88</td>\n",
       "      <td>3135</td>\n",
       "      <td>2017-08-31</td>\n",
       "      <td>0.0</td>\n",
       "      <td>Approved</td>\n",
       "      <td>Norco Bicycles</td>\n",
       "      <td>Standard</td>\n",
       "      <td>medium</td>\n",
       "      <td>medium</td>\n",
       "      <td>1198.46</td>\n",
       "      <td>381.10</td>\n",
       "      <td>36145.0</td>\n",
       "    </tr>\n",
       "    <tr>\n",
       "      <th>4</th>\n",
       "      <td>5</td>\n",
       "      <td>78</td>\n",
       "      <td>787</td>\n",
       "      <td>2017-10-01</td>\n",
       "      <td>1.0</td>\n",
       "      <td>Approved</td>\n",
       "      <td>Giant Bicycles</td>\n",
       "      <td>Standard</td>\n",
       "      <td>medium</td>\n",
       "      <td>large</td>\n",
       "      <td>1765.30</td>\n",
       "      <td>709.48</td>\n",
       "      <td>42226.0</td>\n",
       "    </tr>\n",
       "  </tbody>\n",
       "</table>\n",
       "</div>"
      ],
      "text/plain": [
       "   transaction_id  product_id  customer_id transaction_date  online_order  \\\n",
       "0               1           2         2950       2017-02-25           0.0   \n",
       "1               2           3         3120       2017-05-21           1.0   \n",
       "2               3          37          402       2017-10-16           0.0   \n",
       "3               4          88         3135       2017-08-31           0.0   \n",
       "4               5          78          787       2017-10-01           1.0   \n",
       "\n",
       "  order_status           brand product_line product_class product_size  \\\n",
       "0     Approved           Solex     Standard        medium       medium   \n",
       "1     Approved   Trek Bicycles     Standard        medium        large   \n",
       "2     Approved      OHM Cycles     Standard           low       medium   \n",
       "3     Approved  Norco Bicycles     Standard        medium       medium   \n",
       "4     Approved  Giant Bicycles     Standard        medium        large   \n",
       "\n",
       "   list_price  standard_cost  product_first_sold_date  \n",
       "0       71.49          53.62                  41245.0  \n",
       "1     2091.47         388.92                  41701.0  \n",
       "2     1793.43         248.82                  36361.0  \n",
       "3     1198.46         381.10                  36145.0  \n",
       "4     1765.30         709.48                  42226.0  "
      ]
     },
     "execution_count": 7,
     "metadata": {},
     "output_type": "execute_result"
    }
   ],
   "source": [
    "#using reuireed column\n",
    "Transactions= Transactions.iloc[:,0:13]\n",
    "Transactions.head(5)"
   ]
  },
  {
   "cell_type": "code",
   "execution_count": 9,
   "id": "3d5a6791",
   "metadata": {},
   "outputs": [
    {
     "data": {
      "text/plain": [
       "(20000, 13)"
      ]
     },
     "execution_count": 9,
     "metadata": {},
     "output_type": "execute_result"
    }
   ],
   "source": [
    "Transactions.shape"
   ]
  },
  {
   "cell_type": "code",
   "execution_count": 10,
   "id": "ba7c2958",
   "metadata": {},
   "outputs": [
    {
     "data": {
      "text/plain": [
       "Index(['transaction_id', 'product_id', 'customer_id', 'transaction_date',\n",
       "       'online_order', 'order_status', 'brand', 'product_line',\n",
       "       'product_class', 'product_size', 'list_price', 'standard_cost',\n",
       "       'product_first_sold_date'],\n",
       "      dtype='object')"
      ]
     },
     "execution_count": 10,
     "metadata": {},
     "output_type": "execute_result"
    }
   ],
   "source": [
    "Transactions.columns"
   ]
  },
  {
   "cell_type": "code",
   "execution_count": 11,
   "id": "687590cf",
   "metadata": {},
   "outputs": [
    {
     "data": {
      "text/plain": [
       "transaction_id                      int64\n",
       "product_id                          int64\n",
       "customer_id                         int64\n",
       "transaction_date           datetime64[ns]\n",
       "online_order                      float64\n",
       "order_status                       object\n",
       "brand                              object\n",
       "product_line                       object\n",
       "product_class                      object\n",
       "product_size                       object\n",
       "list_price                        float64\n",
       "standard_cost                     float64\n",
       "product_first_sold_date           float64\n",
       "dtype: object"
      ]
     },
     "execution_count": 11,
     "metadata": {},
     "output_type": "execute_result"
    }
   ],
   "source": [
    "Transactions.dtypes"
   ]
  },
  {
   "cell_type": "code",
   "execution_count": 12,
   "id": "d210805f",
   "metadata": {},
   "outputs": [
    {
     "data": {
      "text/plain": [
       "transaction_id               0\n",
       "product_id                   0\n",
       "customer_id                  0\n",
       "transaction_date             0\n",
       "online_order               360\n",
       "order_status                 0\n",
       "brand                      197\n",
       "product_line               197\n",
       "product_class              197\n",
       "product_size               197\n",
       "list_price                   0\n",
       "standard_cost              197\n",
       "product_first_sold_date    197\n",
       "dtype: int64"
      ]
     },
     "execution_count": 12,
     "metadata": {},
     "output_type": "execute_result"
    }
   ],
   "source": [
    "Transactions.isnull().sum()"
   ]
  },
  {
   "cell_type": "markdown",
   "id": "dbe63263",
   "metadata": {},
   "source": [
    "In that table there are missing value in 7 column. next remove all missing value."
   ]
  },
  {
   "cell_type": "code",
   "execution_count": 13,
   "id": "35aa8c35",
   "metadata": {},
   "outputs": [
    {
     "data": {
      "text/plain": [
       "0"
      ]
     },
     "execution_count": 13,
     "metadata": {},
     "output_type": "execute_result"
    }
   ],
   "source": [
    "#duplicate value\n",
    "Transactions.duplicated().sum()"
   ]
  },
  {
   "cell_type": "markdown",
   "id": "4cabeff1",
   "metadata": {},
   "source": [
    "There is no duplicate value present in this data"
   ]
  },
  {
   "cell_type": "code",
   "execution_count": null,
   "id": "f7645d6a",
   "metadata": {},
   "outputs": [],
   "source": []
  },
  {
   "cell_type": "code",
   "execution_count": 14,
   "id": "2a28ed80",
   "metadata": {},
   "outputs": [
    {
     "data": {
      "text/plain": [
       "transaction_id             20000\n",
       "product_id                   101\n",
       "customer_id                 3494\n",
       "transaction_date             364\n",
       "online_order                   2\n",
       "order_status                   2\n",
       "brand                          6\n",
       "product_line                   4\n",
       "product_class                  3\n",
       "product_size                   3\n",
       "list_price                   296\n",
       "standard_cost                103\n",
       "product_first_sold_date      100\n",
       "dtype: int64"
      ]
     },
     "execution_count": 14,
     "metadata": {},
     "output_type": "execute_result"
    }
   ],
   "source": [
    "#unique value of each column\n",
    "Transactions.nunique()"
   ]
  },
  {
   "cell_type": "markdown",
   "id": "4047678f",
   "metadata": {},
   "source": [
    "### Exploring the columns"
   ]
  },
  {
   "cell_type": "code",
   "execution_count": 17,
   "id": "283a535b",
   "metadata": {},
   "outputs": [
    {
     "data": {
      "text/plain": [
       "Index(['transaction_id', 'product_id', 'customer_id', 'transaction_date',\n",
       "       'online_order', 'order_status', 'brand', 'product_line',\n",
       "       'product_class', 'product_size', 'list_price', 'standard_cost',\n",
       "       'product_first_sold_date'],\n",
       "      dtype='object')"
      ]
     },
     "execution_count": 17,
     "metadata": {},
     "output_type": "execute_result"
    }
   ],
   "source": [
    "Transactions.columns"
   ]
  },
  {
   "cell_type": "code",
   "execution_count": 18,
   "id": "2ae27880",
   "metadata": {},
   "outputs": [
    {
     "data": {
      "text/plain": [
       "Approved     19821\n",
       "Cancelled      179\n",
       "Name: order_status, dtype: int64"
      ]
     },
     "execution_count": 18,
     "metadata": {},
     "output_type": "execute_result"
    }
   ],
   "source": [
    "Transactions['order_status'].value_counts()"
   ]
  },
  {
   "cell_type": "code",
   "execution_count": 19,
   "id": "61ca424b",
   "metadata": {},
   "outputs": [
    {
     "data": {
      "text/plain": [
       "Solex             4253\n",
       "Giant Bicycles    3312\n",
       "WeareA2B          3295\n",
       "OHM Cycles        3043\n",
       "Trek Bicycles     2990\n",
       "Norco Bicycles    2910\n",
       "Name: brand, dtype: int64"
      ]
     },
     "execution_count": 19,
     "metadata": {},
     "output_type": "execute_result"
    }
   ],
   "source": [
    "Transactions['brand'].value_counts()"
   ]
  },
  {
   "cell_type": "code",
   "execution_count": 20,
   "id": "313b4d82",
   "metadata": {},
   "outputs": [
    {
     "data": {
      "text/plain": [
       "Standard    14176\n",
       "Road         3970\n",
       "Touring      1234\n",
       "Mountain      423\n",
       "Name: product_line, dtype: int64"
      ]
     },
     "execution_count": 20,
     "metadata": {},
     "output_type": "execute_result"
    }
   ],
   "source": [
    "Transactions['product_line'].value_counts()"
   ]
  },
  {
   "cell_type": "code",
   "execution_count": 21,
   "id": "141eb08a",
   "metadata": {},
   "outputs": [
    {
     "data": {
      "text/plain": [
       "medium    13826\n",
       "high       3013\n",
       "low        2964\n",
       "Name: product_class, dtype: int64"
      ]
     },
     "execution_count": 21,
     "metadata": {},
     "output_type": "execute_result"
    }
   ],
   "source": [
    "Transactions['product_class'].value_counts()"
   ]
  },
  {
   "cell_type": "code",
   "execution_count": 22,
   "id": "023229e6",
   "metadata": {},
   "outputs": [
    {
     "data": {
      "text/plain": [
       "medium    12990\n",
       "large      3976\n",
       "small      2837\n",
       "Name: product_size, dtype: int64"
      ]
     },
     "execution_count": 22,
     "metadata": {},
     "output_type": "execute_result"
    }
   ],
   "source": [
    "Transactions['product_size'].value_counts()"
   ]
  },
  {
   "cell_type": "code",
   "execution_count": 23,
   "id": "cd9f98de",
   "metadata": {},
   "outputs": [
    {
     "data": {
      "text/plain": [
       "33879.0    234\n",
       "41064.0    229\n",
       "37823.0    227\n",
       "39880.0    222\n",
       "38216.0    220\n",
       "          ... \n",
       "41848.0    169\n",
       "42404.0    168\n",
       "41922.0    166\n",
       "37659.0    163\n",
       "34586.0    162\n",
       "Name: product_first_sold_date, Length: 100, dtype: int64"
      ]
     },
     "execution_count": 23,
     "metadata": {},
     "output_type": "execute_result"
    }
   ],
   "source": [
    "Transactions['product_first_sold_date'].value_counts()"
   ]
  },
  {
   "cell_type": "markdown",
   "id": "e5277b61",
   "metadata": {},
   "source": [
    "As we can see that the 'product_first_sold_date' values are in  dtype: int64 so as column name say itself that the values must be datetime format, so now we convert this int to datetime."
   ]
  },
  {
   "cell_type": "code",
   "execution_count": 24,
   "id": "a9a5dd75",
   "metadata": {},
   "outputs": [],
   "source": [
    "#convert integer to datetime\n",
    "Transactions['product_first_sold_date']=pd.to_datetime(Transactions['product_first_sold_date'], unit='s')"
   ]
  },
  {
   "cell_type": "markdown",
   "id": "5ebc9d1d",
   "metadata": {},
   "source": [
    "Let's Check once the 'product_first_sold_date' values are converted or not in datetime format"
   ]
  },
  {
   "cell_type": "code",
   "execution_count": 25,
   "id": "22c5ec92",
   "metadata": {},
   "outputs": [
    {
     "data": {
      "text/plain": [
       "0   1970-01-01 11:27:25\n",
       "1   1970-01-01 11:35:01\n",
       "2   1970-01-01 10:06:01\n",
       "3   1970-01-01 10:02:25\n",
       "4   1970-01-01 11:43:46\n",
       "5   1970-01-01 10:50:31\n",
       "6   1970-01-01 09:29:25\n",
       "7   1970-01-01 11:05:15\n",
       "8   1970-01-01 09:17:35\n",
       "9   1970-01-01 10:36:56\n",
       "Name: product_first_sold_date, dtype: datetime64[ns]"
      ]
     },
     "execution_count": 25,
     "metadata": {},
     "output_type": "execute_result"
    }
   ],
   "source": [
    "Transactions['product_first_sold_date'].head(10)"
   ]
  },
  {
   "cell_type": "markdown",
   "id": "d9f966e0",
   "metadata": {},
   "source": [
    "So here Our Transactions dataset data quality Examine is Over . Now we Move towards the next dataset."
   ]
  },
  {
   "cell_type": "markdown",
   "id": "4bbdc170",
   "metadata": {},
   "source": [
    "### New CustomerList Dataset"
   ]
  },
  {
   "cell_type": "code",
   "execution_count": 26,
   "id": "eff78aaa",
   "metadata": {},
   "outputs": [
    {
     "data": {
      "text/html": [
       "<div>\n",
       "<style scoped>\n",
       "    .dataframe tbody tr th:only-of-type {\n",
       "        vertical-align: middle;\n",
       "    }\n",
       "\n",
       "    .dataframe tbody tr th {\n",
       "        vertical-align: top;\n",
       "    }\n",
       "\n",
       "    .dataframe thead th {\n",
       "        text-align: right;\n",
       "    }\n",
       "</style>\n",
       "<table border=\"1\" class=\"dataframe\">\n",
       "  <thead>\n",
       "    <tr style=\"text-align: right;\">\n",
       "      <th></th>\n",
       "      <th>first_name</th>\n",
       "      <th>last_name</th>\n",
       "      <th>gender</th>\n",
       "      <th>past_3_years_bike_related_purchases</th>\n",
       "      <th>DOB</th>\n",
       "      <th>job_title</th>\n",
       "      <th>job_industry_category</th>\n",
       "      <th>wealth_segment</th>\n",
       "      <th>deceased_indicator</th>\n",
       "      <th>owns_car</th>\n",
       "      <th>...</th>\n",
       "      <th>state</th>\n",
       "      <th>country</th>\n",
       "      <th>property_valuation</th>\n",
       "      <th>Unnamed: 16</th>\n",
       "      <th>Unnamed: 17</th>\n",
       "      <th>Unnamed: 18</th>\n",
       "      <th>Unnamed: 19</th>\n",
       "      <th>Unnamed: 20</th>\n",
       "      <th>Rank</th>\n",
       "      <th>Value</th>\n",
       "    </tr>\n",
       "  </thead>\n",
       "  <tbody>\n",
       "    <tr>\n",
       "      <th>0</th>\n",
       "      <td>Chickie</td>\n",
       "      <td>Brister</td>\n",
       "      <td>Male</td>\n",
       "      <td>86</td>\n",
       "      <td>1957-07-12</td>\n",
       "      <td>General Manager</td>\n",
       "      <td>Manufacturing</td>\n",
       "      <td>Mass Customer</td>\n",
       "      <td>N</td>\n",
       "      <td>Yes</td>\n",
       "      <td>...</td>\n",
       "      <td>QLD</td>\n",
       "      <td>Australia</td>\n",
       "      <td>6</td>\n",
       "      <td>0.81</td>\n",
       "      <td>1.0125</td>\n",
       "      <td>1.265625</td>\n",
       "      <td>1.075781</td>\n",
       "      <td>1</td>\n",
       "      <td>1</td>\n",
       "      <td>1.718750</td>\n",
       "    </tr>\n",
       "    <tr>\n",
       "      <th>1</th>\n",
       "      <td>Morly</td>\n",
       "      <td>Genery</td>\n",
       "      <td>Male</td>\n",
       "      <td>69</td>\n",
       "      <td>1970-03-22</td>\n",
       "      <td>Structural Engineer</td>\n",
       "      <td>Property</td>\n",
       "      <td>Mass Customer</td>\n",
       "      <td>N</td>\n",
       "      <td>No</td>\n",
       "      <td>...</td>\n",
       "      <td>NSW</td>\n",
       "      <td>Australia</td>\n",
       "      <td>11</td>\n",
       "      <td>1.00</td>\n",
       "      <td>1.0000</td>\n",
       "      <td>1.250000</td>\n",
       "      <td>1.062500</td>\n",
       "      <td>1</td>\n",
       "      <td>1</td>\n",
       "      <td>1.718750</td>\n",
       "    </tr>\n",
       "    <tr>\n",
       "      <th>2</th>\n",
       "      <td>Ardelis</td>\n",
       "      <td>Forrester</td>\n",
       "      <td>Female</td>\n",
       "      <td>10</td>\n",
       "      <td>1974-08-28</td>\n",
       "      <td>Senior Cost Accountant</td>\n",
       "      <td>Financial Services</td>\n",
       "      <td>Affluent Customer</td>\n",
       "      <td>N</td>\n",
       "      <td>No</td>\n",
       "      <td>...</td>\n",
       "      <td>VIC</td>\n",
       "      <td>Australia</td>\n",
       "      <td>5</td>\n",
       "      <td>0.57</td>\n",
       "      <td>0.5700</td>\n",
       "      <td>0.570000</td>\n",
       "      <td>0.570000</td>\n",
       "      <td>1</td>\n",
       "      <td>1</td>\n",
       "      <td>1.718750</td>\n",
       "    </tr>\n",
       "    <tr>\n",
       "      <th>3</th>\n",
       "      <td>Lucine</td>\n",
       "      <td>Stutt</td>\n",
       "      <td>Female</td>\n",
       "      <td>64</td>\n",
       "      <td>1979-01-28</td>\n",
       "      <td>Account Representative III</td>\n",
       "      <td>Manufacturing</td>\n",
       "      <td>Affluent Customer</td>\n",
       "      <td>N</td>\n",
       "      <td>Yes</td>\n",
       "      <td>...</td>\n",
       "      <td>QLD</td>\n",
       "      <td>Australia</td>\n",
       "      <td>1</td>\n",
       "      <td>0.87</td>\n",
       "      <td>1.0875</td>\n",
       "      <td>1.087500</td>\n",
       "      <td>1.087500</td>\n",
       "      <td>4</td>\n",
       "      <td>4</td>\n",
       "      <td>1.703125</td>\n",
       "    </tr>\n",
       "    <tr>\n",
       "      <th>4</th>\n",
       "      <td>Melinda</td>\n",
       "      <td>Hadlee</td>\n",
       "      <td>Female</td>\n",
       "      <td>34</td>\n",
       "      <td>1965-09-21</td>\n",
       "      <td>Financial Analyst</td>\n",
       "      <td>Financial Services</td>\n",
       "      <td>Affluent Customer</td>\n",
       "      <td>N</td>\n",
       "      <td>No</td>\n",
       "      <td>...</td>\n",
       "      <td>NSW</td>\n",
       "      <td>Australia</td>\n",
       "      <td>9</td>\n",
       "      <td>0.41</td>\n",
       "      <td>0.4100</td>\n",
       "      <td>0.512500</td>\n",
       "      <td>0.512500</td>\n",
       "      <td>4</td>\n",
       "      <td>4</td>\n",
       "      <td>1.703125</td>\n",
       "    </tr>\n",
       "  </tbody>\n",
       "</table>\n",
       "<p>5 rows × 23 columns</p>\n",
       "</div>"
      ],
      "text/plain": [
       "  first_name  last_name  gender  past_3_years_bike_related_purchases  \\\n",
       "0    Chickie    Brister    Male                                   86   \n",
       "1      Morly     Genery    Male                                   69   \n",
       "2    Ardelis  Forrester  Female                                   10   \n",
       "3     Lucine      Stutt  Female                                   64   \n",
       "4    Melinda     Hadlee  Female                                   34   \n",
       "\n",
       "         DOB                   job_title job_industry_category  \\\n",
       "0 1957-07-12             General Manager         Manufacturing   \n",
       "1 1970-03-22         Structural Engineer              Property   \n",
       "2 1974-08-28      Senior Cost Accountant    Financial Services   \n",
       "3 1979-01-28  Account Representative III         Manufacturing   \n",
       "4 1965-09-21           Financial Analyst    Financial Services   \n",
       "\n",
       "      wealth_segment deceased_indicator owns_car  ...  state    country  \\\n",
       "0      Mass Customer                  N      Yes  ...    QLD  Australia   \n",
       "1      Mass Customer                  N       No  ...    NSW  Australia   \n",
       "2  Affluent Customer                  N       No  ...    VIC  Australia   \n",
       "3  Affluent Customer                  N      Yes  ...    QLD  Australia   \n",
       "4  Affluent Customer                  N       No  ...    NSW  Australia   \n",
       "\n",
       "   property_valuation Unnamed: 16 Unnamed: 17  Unnamed: 18  Unnamed: 19  \\\n",
       "0                   6        0.81      1.0125     1.265625     1.075781   \n",
       "1                  11        1.00      1.0000     1.250000     1.062500   \n",
       "2                   5        0.57      0.5700     0.570000     0.570000   \n",
       "3                   1        0.87      1.0875     1.087500     1.087500   \n",
       "4                   9        0.41      0.4100     0.512500     0.512500   \n",
       "\n",
       "   Unnamed: 20  Rank     Value  \n",
       "0            1     1  1.718750  \n",
       "1            1     1  1.718750  \n",
       "2            1     1  1.718750  \n",
       "3            4     4  1.703125  \n",
       "4            4     4  1.703125  \n",
       "\n",
       "[5 rows x 23 columns]"
      ]
     },
     "execution_count": 26,
     "metadata": {},
     "output_type": "execute_result"
    }
   ],
   "source": [
    "NewCustomerList.head()"
   ]
  },
  {
   "cell_type": "code",
   "execution_count": 27,
   "id": "74c11e5c",
   "metadata": {},
   "outputs": [
    {
     "name": "stdout",
     "output_type": "stream",
     "text": [
      "<class 'pandas.core.frame.DataFrame'>\n",
      "RangeIndex: 1000 entries, 0 to 999\n",
      "Data columns (total 23 columns):\n",
      " #   Column                               Non-Null Count  Dtype         \n",
      "---  ------                               --------------  -----         \n",
      " 0   first_name                           1000 non-null   object        \n",
      " 1   last_name                            971 non-null    object        \n",
      " 2   gender                               1000 non-null   object        \n",
      " 3   past_3_years_bike_related_purchases  1000 non-null   int64         \n",
      " 4   DOB                                  983 non-null    datetime64[ns]\n",
      " 5   job_title                            894 non-null    object        \n",
      " 6   job_industry_category                835 non-null    object        \n",
      " 7   wealth_segment                       1000 non-null   object        \n",
      " 8   deceased_indicator                   1000 non-null   object        \n",
      " 9   owns_car                             1000 non-null   object        \n",
      " 10  tenure                               1000 non-null   int64         \n",
      " 11  address                              1000 non-null   object        \n",
      " 12  postcode                             1000 non-null   int64         \n",
      " 13  state                                1000 non-null   object        \n",
      " 14  country                              1000 non-null   object        \n",
      " 15  property_valuation                   1000 non-null   int64         \n",
      " 16  Unnamed: 16                          1000 non-null   float64       \n",
      " 17  Unnamed: 17                          1000 non-null   float64       \n",
      " 18  Unnamed: 18                          1000 non-null   float64       \n",
      " 19  Unnamed: 19                          1000 non-null   float64       \n",
      " 20  Unnamed: 20                          1000 non-null   int64         \n",
      " 21  Rank                                 1000 non-null   int64         \n",
      " 22  Value                                1000 non-null   float64       \n",
      "dtypes: datetime64[ns](1), float64(5), int64(6), object(11)\n",
      "memory usage: 179.8+ KB\n"
     ]
    }
   ],
   "source": [
    "NewCustomerList.info()"
   ]
  },
  {
   "cell_type": "code",
   "execution_count": 28,
   "id": "86652012",
   "metadata": {},
   "outputs": [
    {
     "data": {
      "text/plain": [
       "<bound method NDFrame.describe of     first_name  last_name  gender  past_3_years_bike_related_purchases  \\\n",
       "0      Chickie    Brister    Male                                   86   \n",
       "1        Morly     Genery    Male                                   69   \n",
       "2      Ardelis  Forrester  Female                                   10   \n",
       "3       Lucine      Stutt  Female                                   64   \n",
       "4      Melinda     Hadlee  Female                                   34   \n",
       "..         ...        ...     ...                                  ...   \n",
       "995  Ferdinand  Romanetti    Male                                   60   \n",
       "996       Burk    Wortley    Male                                   22   \n",
       "997   Melloney      Temby  Female                                   17   \n",
       "998     Dickie    Cubbini    Male                                   30   \n",
       "999      Sylas    Duffill    Male                                   56   \n",
       "\n",
       "           DOB                     job_title job_industry_category  \\\n",
       "0   1957-07-12               General Manager         Manufacturing   \n",
       "1   1970-03-22           Structural Engineer              Property   \n",
       "2   1974-08-28        Senior Cost Accountant    Financial Services   \n",
       "3   1979-01-28    Account Representative III         Manufacturing   \n",
       "4   1965-09-21             Financial Analyst    Financial Services   \n",
       "..         ...                           ...                   ...   \n",
       "995 1959-10-07                     Paralegal    Financial Services   \n",
       "996 2001-10-17        Senior Sales Associate                Health   \n",
       "997 1954-10-05  Budget/Accounting Analyst IV    Financial Services   \n",
       "998 1952-12-17             Financial Advisor    Financial Services   \n",
       "999 1955-10-02           Staff Accountant IV              Property   \n",
       "\n",
       "        wealth_segment deceased_indicator owns_car  ...  state    country  \\\n",
       "0        Mass Customer                  N      Yes  ...    QLD  Australia   \n",
       "1        Mass Customer                  N       No  ...    NSW  Australia   \n",
       "2    Affluent Customer                  N       No  ...    VIC  Australia   \n",
       "3    Affluent Customer                  N      Yes  ...    QLD  Australia   \n",
       "4    Affluent Customer                  N       No  ...    NSW  Australia   \n",
       "..                 ...                ...      ...  ...    ...        ...   \n",
       "995  Affluent Customer                  N       No  ...    NSW  Australia   \n",
       "996      Mass Customer                  N       No  ...    NSW  Australia   \n",
       "997  Affluent Customer                  N      Yes  ...    QLD  Australia   \n",
       "998      Mass Customer                  N      Yes  ...    QLD  Australia   \n",
       "999      Mass Customer                  N      Yes  ...    NSW  Australia   \n",
       "\n",
       "     property_valuation Unnamed: 16 Unnamed: 17  Unnamed: 18  Unnamed: 19  \\\n",
       "0                     6        0.81      1.0125     1.265625     1.075781   \n",
       "1                    11        1.00      1.0000     1.250000     1.062500   \n",
       "2                     5        0.57      0.5700     0.570000     0.570000   \n",
       "3                     1        0.87      1.0875     1.087500     1.087500   \n",
       "4                     9        0.41      0.4100     0.512500     0.512500   \n",
       "..                  ...         ...         ...          ...          ...   \n",
       "995                   7        0.74      0.7400     0.740000     0.740000   \n",
       "996                  10        0.74      0.7400     0.925000     0.786250   \n",
       "997                   2        0.92      1.1500     1.150000     1.150000   \n",
       "998                   2        0.65      0.8125     0.812500     0.690625   \n",
       "999                   9        0.65      0.8125     1.015625     0.863281   \n",
       "\n",
       "     Unnamed: 20  Rank     Value  \n",
       "0              1     1  1.718750  \n",
       "1              1     1  1.718750  \n",
       "2              1     1  1.718750  \n",
       "3              4     4  1.703125  \n",
       "4              4     4  1.703125  \n",
       "..           ...   ...       ...  \n",
       "995          996   996  0.374000  \n",
       "996          997   997  0.357000  \n",
       "997          997   997  0.357000  \n",
       "998          997   997  0.357000  \n",
       "999         1000  1000  0.340000  \n",
       "\n",
       "[1000 rows x 23 columns]>"
      ]
     },
     "execution_count": 28,
     "metadata": {},
     "output_type": "execute_result"
    }
   ],
   "source": [
    "NewCustomerList.describe"
   ]
  },
  {
   "cell_type": "markdown",
   "id": "57bc0f49",
   "metadata": {},
   "source": [
    "From above examine we can see that their is some Unamed column is present in our dataset. So here i am droping this unnamed column by using drop() function."
   ]
  },
  {
   "cell_type": "code",
   "execution_count": 29,
   "id": "1fc2cf86",
   "metadata": {},
   "outputs": [],
   "source": [
    "#Drop the unnamed column\n",
    "NewCustomerList.drop(['Unnamed: 16','Unnamed: 17','Unnamed: 18','Unnamed: 19','Unnamed: 20'], axis=1, inplace=True)"
   ]
  },
  {
   "cell_type": "code",
   "execution_count": 30,
   "id": "67607f99",
   "metadata": {},
   "outputs": [
    {
     "data": {
      "text/plain": [
       "(1000, 18)"
      ]
     },
     "execution_count": 30,
     "metadata": {},
     "output_type": "execute_result"
    }
   ],
   "source": [
    "NewCustomerList.shape"
   ]
  },
  {
   "cell_type": "code",
   "execution_count": 31,
   "id": "af9ac43e",
   "metadata": {},
   "outputs": [
    {
     "data": {
      "text/plain": [
       "Index(['first_name', 'last_name', 'gender',\n",
       "       'past_3_years_bike_related_purchases', 'DOB', 'job_title',\n",
       "       'job_industry_category', 'wealth_segment', 'deceased_indicator',\n",
       "       'owns_car', 'tenure', 'address', 'postcode', 'state', 'country',\n",
       "       'property_valuation', 'Rank', 'Value'],\n",
       "      dtype='object')"
      ]
     },
     "execution_count": 31,
     "metadata": {},
     "output_type": "execute_result"
    }
   ],
   "source": [
    "NewCustomerList.columns"
   ]
  },
  {
   "cell_type": "code",
   "execution_count": 32,
   "id": "234ea171",
   "metadata": {},
   "outputs": [
    {
     "data": {
      "text/plain": [
       "first_name                                     object\n",
       "last_name                                      object\n",
       "gender                                         object\n",
       "past_3_years_bike_related_purchases             int64\n",
       "DOB                                    datetime64[ns]\n",
       "job_title                                      object\n",
       "job_industry_category                          object\n",
       "wealth_segment                                 object\n",
       "deceased_indicator                             object\n",
       "owns_car                                       object\n",
       "tenure                                          int64\n",
       "address                                        object\n",
       "postcode                                        int64\n",
       "state                                          object\n",
       "country                                        object\n",
       "property_valuation                              int64\n",
       "Rank                                            int64\n",
       "Value                                         float64\n",
       "dtype: object"
      ]
     },
     "execution_count": 32,
     "metadata": {},
     "output_type": "execute_result"
    }
   ],
   "source": [
    "NewCustomerList.dtypes"
   ]
  },
  {
   "cell_type": "code",
   "execution_count": 33,
   "id": "79684f72",
   "metadata": {},
   "outputs": [
    {
     "data": {
      "text/plain": [
       "first_name                               0\n",
       "last_name                               29\n",
       "gender                                   0\n",
       "past_3_years_bike_related_purchases      0\n",
       "DOB                                     17\n",
       "job_title                              106\n",
       "job_industry_category                  165\n",
       "wealth_segment                           0\n",
       "deceased_indicator                       0\n",
       "owns_car                                 0\n",
       "tenure                                   0\n",
       "address                                  0\n",
       "postcode                                 0\n",
       "state                                    0\n",
       "country                                  0\n",
       "property_valuation                       0\n",
       "Rank                                     0\n",
       "Value                                    0\n",
       "dtype: int64"
      ]
     },
     "execution_count": 33,
     "metadata": {},
     "output_type": "execute_result"
    }
   ],
   "source": [
    "NewCustomerList.isnull().sum()"
   ]
  },
  {
   "cell_type": "markdown",
   "id": "f905c2c8",
   "metadata": {},
   "source": [
    "In that table there are missing value in 4 column. next remove all missing value."
   ]
  },
  {
   "cell_type": "code",
   "execution_count": 34,
   "id": "2116141f",
   "metadata": {},
   "outputs": [
    {
     "data": {
      "text/plain": [
       "0"
      ]
     },
     "execution_count": 34,
     "metadata": {},
     "output_type": "execute_result"
    }
   ],
   "source": [
    "NewCustomerList.duplicated().sum()"
   ]
  },
  {
   "cell_type": "markdown",
   "id": "ead2364f",
   "metadata": {},
   "source": [
    "There is no duplicate value present in this data"
   ]
  },
  {
   "cell_type": "code",
   "execution_count": 35,
   "id": "39073475",
   "metadata": {},
   "outputs": [
    {
     "data": {
      "text/plain": [
       "first_name                              940\n",
       "last_name                               961\n",
       "gender                                    3\n",
       "past_3_years_bike_related_purchases     100\n",
       "DOB                                     958\n",
       "job_title                               184\n",
       "job_industry_category                     9\n",
       "wealth_segment                            3\n",
       "deceased_indicator                        1\n",
       "owns_car                                  2\n",
       "tenure                                   23\n",
       "address                                1000\n",
       "postcode                                522\n",
       "state                                     3\n",
       "country                                   1\n",
       "property_valuation                       12\n",
       "Rank                                    324\n",
       "Value                                   319\n",
       "dtype: int64"
      ]
     },
     "execution_count": 35,
     "metadata": {},
     "output_type": "execute_result"
    }
   ],
   "source": [
    "NewCustomerList.nunique()"
   ]
  },
  {
   "cell_type": "markdown",
   "id": "f4f0af28",
   "metadata": {},
   "source": [
    "Exploring column"
   ]
  },
  {
   "cell_type": "code",
   "execution_count": 36,
   "id": "9f894b94",
   "metadata": {},
   "outputs": [
    {
     "data": {
      "text/plain": [
       "Index(['first_name', 'last_name', 'gender',\n",
       "       'past_3_years_bike_related_purchases', 'DOB', 'job_title',\n",
       "       'job_industry_category', 'wealth_segment', 'deceased_indicator',\n",
       "       'owns_car', 'tenure', 'address', 'postcode', 'state', 'country',\n",
       "       'property_valuation', 'Rank', 'Value'],\n",
       "      dtype='object')"
      ]
     },
     "execution_count": 36,
     "metadata": {},
     "output_type": "execute_result"
    }
   ],
   "source": [
    "NewCustomerList.columns"
   ]
  },
  {
   "cell_type": "code",
   "execution_count": 37,
   "id": "09a09391",
   "metadata": {},
   "outputs": [
    {
     "data": {
      "text/plain": [
       "Female    513\n",
       "Male      470\n",
       "U          17\n",
       "Name: gender, dtype: int64"
      ]
     },
     "execution_count": 37,
     "metadata": {},
     "output_type": "execute_result"
    }
   ],
   "source": [
    "NewCustomerList['gender'].value_counts()"
   ]
  },
  {
   "cell_type": "code",
   "execution_count": 38,
   "id": "ffd5f48f",
   "metadata": {},
   "outputs": [
    {
     "data": {
      "text/html": [
       "<div>\n",
       "<style scoped>\n",
       "    .dataframe tbody tr th:only-of-type {\n",
       "        vertical-align: middle;\n",
       "    }\n",
       "\n",
       "    .dataframe tbody tr th {\n",
       "        vertical-align: top;\n",
       "    }\n",
       "\n",
       "    .dataframe thead th {\n",
       "        text-align: right;\n",
       "    }\n",
       "</style>\n",
       "<table border=\"1\" class=\"dataframe\">\n",
       "  <thead>\n",
       "    <tr style=\"text-align: right;\">\n",
       "      <th></th>\n",
       "      <th>first_name</th>\n",
       "      <th>last_name</th>\n",
       "      <th>gender</th>\n",
       "      <th>past_3_years_bike_related_purchases</th>\n",
       "      <th>DOB</th>\n",
       "      <th>job_title</th>\n",
       "      <th>job_industry_category</th>\n",
       "      <th>wealth_segment</th>\n",
       "      <th>deceased_indicator</th>\n",
       "      <th>owns_car</th>\n",
       "      <th>tenure</th>\n",
       "      <th>address</th>\n",
       "      <th>postcode</th>\n",
       "      <th>state</th>\n",
       "      <th>country</th>\n",
       "      <th>property_valuation</th>\n",
       "      <th>Rank</th>\n",
       "      <th>Value</th>\n",
       "    </tr>\n",
       "  </thead>\n",
       "  <tbody>\n",
       "    <tr>\n",
       "      <th>59</th>\n",
       "      <td>Normy</td>\n",
       "      <td>Goodinge</td>\n",
       "      <td>U</td>\n",
       "      <td>5</td>\n",
       "      <td>NaT</td>\n",
       "      <td>Associate Professor</td>\n",
       "      <td>IT</td>\n",
       "      <td>Mass Customer</td>\n",
       "      <td>N</td>\n",
       "      <td>No</td>\n",
       "      <td>4</td>\n",
       "      <td>7232 Fulton Parkway</td>\n",
       "      <td>3810</td>\n",
       "      <td>VIC</td>\n",
       "      <td>Australia</td>\n",
       "      <td>5</td>\n",
       "      <td>57</td>\n",
       "      <td>1.375000</td>\n",
       "    </tr>\n",
       "    <tr>\n",
       "      <th>226</th>\n",
       "      <td>Hatti</td>\n",
       "      <td>Carletti</td>\n",
       "      <td>U</td>\n",
       "      <td>35</td>\n",
       "      <td>NaT</td>\n",
       "      <td>Legal Assistant</td>\n",
       "      <td>IT</td>\n",
       "      <td>Affluent Customer</td>\n",
       "      <td>N</td>\n",
       "      <td>Yes</td>\n",
       "      <td>11</td>\n",
       "      <td>6 Iowa Center</td>\n",
       "      <td>2519</td>\n",
       "      <td>NSW</td>\n",
       "      <td>Australia</td>\n",
       "      <td>9</td>\n",
       "      <td>226</td>\n",
       "      <td>1.112500</td>\n",
       "    </tr>\n",
       "    <tr>\n",
       "      <th>324</th>\n",
       "      <td>Rozamond</td>\n",
       "      <td>Turtle</td>\n",
       "      <td>U</td>\n",
       "      <td>69</td>\n",
       "      <td>NaT</td>\n",
       "      <td>Legal Assistant</td>\n",
       "      <td>IT</td>\n",
       "      <td>Mass Customer</td>\n",
       "      <td>N</td>\n",
       "      <td>Yes</td>\n",
       "      <td>3</td>\n",
       "      <td>57025 New Castle Street</td>\n",
       "      <td>3850</td>\n",
       "      <td>VIC</td>\n",
       "      <td>Australia</td>\n",
       "      <td>3</td>\n",
       "      <td>324</td>\n",
       "      <td>1.010000</td>\n",
       "    </tr>\n",
       "    <tr>\n",
       "      <th>358</th>\n",
       "      <td>Tamas</td>\n",
       "      <td>Swatman</td>\n",
       "      <td>U</td>\n",
       "      <td>65</td>\n",
       "      <td>NaT</td>\n",
       "      <td>Assistant Media Planner</td>\n",
       "      <td>Entertainment</td>\n",
       "      <td>Affluent Customer</td>\n",
       "      <td>N</td>\n",
       "      <td>No</td>\n",
       "      <td>5</td>\n",
       "      <td>78 Clarendon Drive</td>\n",
       "      <td>4551</td>\n",
       "      <td>QLD</td>\n",
       "      <td>Australia</td>\n",
       "      <td>8</td>\n",
       "      <td>358</td>\n",
       "      <td>0.980000</td>\n",
       "    </tr>\n",
       "    <tr>\n",
       "      <th>360</th>\n",
       "      <td>Tracy</td>\n",
       "      <td>Andrejevic</td>\n",
       "      <td>U</td>\n",
       "      <td>71</td>\n",
       "      <td>NaT</td>\n",
       "      <td>Programmer II</td>\n",
       "      <td>IT</td>\n",
       "      <td>Mass Customer</td>\n",
       "      <td>N</td>\n",
       "      <td>Yes</td>\n",
       "      <td>11</td>\n",
       "      <td>5675 Burning Wood Trail</td>\n",
       "      <td>3030</td>\n",
       "      <td>VIC</td>\n",
       "      <td>Australia</td>\n",
       "      <td>7</td>\n",
       "      <td>361</td>\n",
       "      <td>0.977500</td>\n",
       "    </tr>\n",
       "    <tr>\n",
       "      <th>374</th>\n",
       "      <td>Agneta</td>\n",
       "      <td>McAmish</td>\n",
       "      <td>U</td>\n",
       "      <td>66</td>\n",
       "      <td>NaT</td>\n",
       "      <td>Structural Analysis Engineer</td>\n",
       "      <td>IT</td>\n",
       "      <td>Mass Customer</td>\n",
       "      <td>N</td>\n",
       "      <td>No</td>\n",
       "      <td>15</td>\n",
       "      <td>5773 Acker Way</td>\n",
       "      <td>4207</td>\n",
       "      <td>QLD</td>\n",
       "      <td>Australia</td>\n",
       "      <td>6</td>\n",
       "      <td>375</td>\n",
       "      <td>0.960000</td>\n",
       "    </tr>\n",
       "    <tr>\n",
       "      <th>434</th>\n",
       "      <td>Gregg</td>\n",
       "      <td>Aimeric</td>\n",
       "      <td>U</td>\n",
       "      <td>52</td>\n",
       "      <td>NaT</td>\n",
       "      <td>Internal Auditor</td>\n",
       "      <td>IT</td>\n",
       "      <td>Mass Customer</td>\n",
       "      <td>N</td>\n",
       "      <td>No</td>\n",
       "      <td>7</td>\n",
       "      <td>72423 Surrey Street</td>\n",
       "      <td>3753</td>\n",
       "      <td>VIC</td>\n",
       "      <td>Australia</td>\n",
       "      <td>5</td>\n",
       "      <td>433</td>\n",
       "      <td>0.906250</td>\n",
       "    </tr>\n",
       "    <tr>\n",
       "      <th>439</th>\n",
       "      <td>Johna</td>\n",
       "      <td>Bunker</td>\n",
       "      <td>U</td>\n",
       "      <td>93</td>\n",
       "      <td>NaT</td>\n",
       "      <td>Tax Accountant</td>\n",
       "      <td>IT</td>\n",
       "      <td>Mass Customer</td>\n",
       "      <td>N</td>\n",
       "      <td>Yes</td>\n",
       "      <td>14</td>\n",
       "      <td>3686 Waubesa Way</td>\n",
       "      <td>3065</td>\n",
       "      <td>VIC</td>\n",
       "      <td>Australia</td>\n",
       "      <td>6</td>\n",
       "      <td>436</td>\n",
       "      <td>0.903125</td>\n",
       "    </tr>\n",
       "    <tr>\n",
       "      <th>574</th>\n",
       "      <td>Harlene</td>\n",
       "      <td>Nono</td>\n",
       "      <td>U</td>\n",
       "      <td>69</td>\n",
       "      <td>NaT</td>\n",
       "      <td>Human Resources Manager</td>\n",
       "      <td>IT</td>\n",
       "      <td>Mass Customer</td>\n",
       "      <td>N</td>\n",
       "      <td>No</td>\n",
       "      <td>12</td>\n",
       "      <td>0307 Namekagon Crossing</td>\n",
       "      <td>2170</td>\n",
       "      <td>NSW</td>\n",
       "      <td>Australia</td>\n",
       "      <td>7</td>\n",
       "      <td>575</td>\n",
       "      <td>0.796875</td>\n",
       "    </tr>\n",
       "    <tr>\n",
       "      <th>598</th>\n",
       "      <td>Gerianne</td>\n",
       "      <td>Kaysor</td>\n",
       "      <td>U</td>\n",
       "      <td>15</td>\n",
       "      <td>NaT</td>\n",
       "      <td>Project Manager</td>\n",
       "      <td>IT</td>\n",
       "      <td>Affluent Customer</td>\n",
       "      <td>N</td>\n",
       "      <td>No</td>\n",
       "      <td>5</td>\n",
       "      <td>882 Toban Lane</td>\n",
       "      <td>2121</td>\n",
       "      <td>NSW</td>\n",
       "      <td>Australia</td>\n",
       "      <td>11</td>\n",
       "      <td>599</td>\n",
       "      <td>0.775000</td>\n",
       "    </tr>\n",
       "    <tr>\n",
       "      <th>664</th>\n",
       "      <td>Chicky</td>\n",
       "      <td>Sinclar</td>\n",
       "      <td>U</td>\n",
       "      <td>43</td>\n",
       "      <td>NaT</td>\n",
       "      <td>Operator</td>\n",
       "      <td>IT</td>\n",
       "      <td>High Net Worth</td>\n",
       "      <td>N</td>\n",
       "      <td>Yes</td>\n",
       "      <td>0</td>\n",
       "      <td>5 Red Cloud Place</td>\n",
       "      <td>3222</td>\n",
       "      <td>VIC</td>\n",
       "      <td>Australia</td>\n",
       "      <td>4</td>\n",
       "      <td>662</td>\n",
       "      <td>0.711875</td>\n",
       "    </tr>\n",
       "    <tr>\n",
       "      <th>751</th>\n",
       "      <td>Adriana</td>\n",
       "      <td>Saundercock</td>\n",
       "      <td>U</td>\n",
       "      <td>20</td>\n",
       "      <td>NaT</td>\n",
       "      <td>Nurse</td>\n",
       "      <td>IT</td>\n",
       "      <td>High Net Worth</td>\n",
       "      <td>N</td>\n",
       "      <td>Yes</td>\n",
       "      <td>14</td>\n",
       "      <td>82 Gina Junction</td>\n",
       "      <td>3806</td>\n",
       "      <td>VIC</td>\n",
       "      <td>Australia</td>\n",
       "      <td>7</td>\n",
       "      <td>751</td>\n",
       "      <td>0.648125</td>\n",
       "    </tr>\n",
       "    <tr>\n",
       "      <th>775</th>\n",
       "      <td>Dmitri</td>\n",
       "      <td>Viant</td>\n",
       "      <td>U</td>\n",
       "      <td>62</td>\n",
       "      <td>NaT</td>\n",
       "      <td>Paralegal</td>\n",
       "      <td>Financial Services</td>\n",
       "      <td>Affluent Customer</td>\n",
       "      <td>N</td>\n",
       "      <td>No</td>\n",
       "      <td>5</td>\n",
       "      <td>95960 Warner Parkway</td>\n",
       "      <td>3842</td>\n",
       "      <td>VIC</td>\n",
       "      <td>Australia</td>\n",
       "      <td>1</td>\n",
       "      <td>774</td>\n",
       "      <td>0.626875</td>\n",
       "    </tr>\n",
       "    <tr>\n",
       "      <th>835</th>\n",
       "      <td>Porty</td>\n",
       "      <td>Hansed</td>\n",
       "      <td>U</td>\n",
       "      <td>88</td>\n",
       "      <td>NaT</td>\n",
       "      <td>General Manager</td>\n",
       "      <td>IT</td>\n",
       "      <td>Mass Customer</td>\n",
       "      <td>N</td>\n",
       "      <td>No</td>\n",
       "      <td>13</td>\n",
       "      <td>768 Southridge Drive</td>\n",
       "      <td>2112</td>\n",
       "      <td>NSW</td>\n",
       "      <td>Australia</td>\n",
       "      <td>11</td>\n",
       "      <td>832</td>\n",
       "      <td>0.575000</td>\n",
       "    </tr>\n",
       "    <tr>\n",
       "      <th>883</th>\n",
       "      <td>Shara</td>\n",
       "      <td>Bramhill</td>\n",
       "      <td>U</td>\n",
       "      <td>24</td>\n",
       "      <td>NaT</td>\n",
       "      <td>NaN</td>\n",
       "      <td>IT</td>\n",
       "      <td>Affluent Customer</td>\n",
       "      <td>N</td>\n",
       "      <td>No</td>\n",
       "      <td>2</td>\n",
       "      <td>01 Bunker Hill Drive</td>\n",
       "      <td>2230</td>\n",
       "      <td>NSW</td>\n",
       "      <td>Australia</td>\n",
       "      <td>10</td>\n",
       "      <td>883</td>\n",
       "      <td>0.531250</td>\n",
       "    </tr>\n",
       "    <tr>\n",
       "      <th>904</th>\n",
       "      <td>Roth</td>\n",
       "      <td>Crum</td>\n",
       "      <td>U</td>\n",
       "      <td>0</td>\n",
       "      <td>NaT</td>\n",
       "      <td>Legal Assistant</td>\n",
       "      <td>IT</td>\n",
       "      <td>Mass Customer</td>\n",
       "      <td>N</td>\n",
       "      <td>No</td>\n",
       "      <td>2</td>\n",
       "      <td>276 Anthes Court</td>\n",
       "      <td>2450</td>\n",
       "      <td>NSW</td>\n",
       "      <td>Australia</td>\n",
       "      <td>6</td>\n",
       "      <td>904</td>\n",
       "      <td>0.500000</td>\n",
       "    </tr>\n",
       "    <tr>\n",
       "      <th>984</th>\n",
       "      <td>Pauline</td>\n",
       "      <td>Dallosso</td>\n",
       "      <td>U</td>\n",
       "      <td>82</td>\n",
       "      <td>NaT</td>\n",
       "      <td>Desktop Support Technician</td>\n",
       "      <td>IT</td>\n",
       "      <td>Affluent Customer</td>\n",
       "      <td>N</td>\n",
       "      <td>Yes</td>\n",
       "      <td>0</td>\n",
       "      <td>9594 Badeau Street</td>\n",
       "      <td>2050</td>\n",
       "      <td>NSW</td>\n",
       "      <td>Australia</td>\n",
       "      <td>10</td>\n",
       "      <td>985</td>\n",
       "      <td>0.408000</td>\n",
       "    </tr>\n",
       "  </tbody>\n",
       "</table>\n",
       "</div>"
      ],
      "text/plain": [
       "    first_name    last_name gender  past_3_years_bike_related_purchases DOB  \\\n",
       "59       Normy     Goodinge      U                                    5 NaT   \n",
       "226      Hatti     Carletti      U                                   35 NaT   \n",
       "324   Rozamond       Turtle      U                                   69 NaT   \n",
       "358      Tamas      Swatman      U                                   65 NaT   \n",
       "360      Tracy   Andrejevic      U                                   71 NaT   \n",
       "374     Agneta      McAmish      U                                   66 NaT   \n",
       "434      Gregg      Aimeric      U                                   52 NaT   \n",
       "439      Johna       Bunker      U                                   93 NaT   \n",
       "574    Harlene         Nono      U                                   69 NaT   \n",
       "598   Gerianne       Kaysor      U                                   15 NaT   \n",
       "664     Chicky      Sinclar      U                                   43 NaT   \n",
       "751    Adriana  Saundercock      U                                   20 NaT   \n",
       "775     Dmitri        Viant      U                                   62 NaT   \n",
       "835      Porty       Hansed      U                                   88 NaT   \n",
       "883      Shara     Bramhill      U                                   24 NaT   \n",
       "904       Roth         Crum      U                                    0 NaT   \n",
       "984    Pauline     Dallosso      U                                   82 NaT   \n",
       "\n",
       "                        job_title job_industry_category     wealth_segment  \\\n",
       "59            Associate Professor                    IT      Mass Customer   \n",
       "226               Legal Assistant                    IT  Affluent Customer   \n",
       "324               Legal Assistant                    IT      Mass Customer   \n",
       "358       Assistant Media Planner         Entertainment  Affluent Customer   \n",
       "360                 Programmer II                    IT      Mass Customer   \n",
       "374  Structural Analysis Engineer                    IT      Mass Customer   \n",
       "434              Internal Auditor                    IT      Mass Customer   \n",
       "439                Tax Accountant                    IT      Mass Customer   \n",
       "574       Human Resources Manager                    IT      Mass Customer   \n",
       "598               Project Manager                    IT  Affluent Customer   \n",
       "664                      Operator                    IT     High Net Worth   \n",
       "751                         Nurse                    IT     High Net Worth   \n",
       "775                     Paralegal    Financial Services  Affluent Customer   \n",
       "835               General Manager                    IT      Mass Customer   \n",
       "883                           NaN                    IT  Affluent Customer   \n",
       "904               Legal Assistant                    IT      Mass Customer   \n",
       "984    Desktop Support Technician                    IT  Affluent Customer   \n",
       "\n",
       "    deceased_indicator owns_car  tenure                  address  postcode  \\\n",
       "59                   N       No       4      7232 Fulton Parkway      3810   \n",
       "226                  N      Yes      11            6 Iowa Center      2519   \n",
       "324                  N      Yes       3  57025 New Castle Street      3850   \n",
       "358                  N       No       5       78 Clarendon Drive      4551   \n",
       "360                  N      Yes      11  5675 Burning Wood Trail      3030   \n",
       "374                  N       No      15           5773 Acker Way      4207   \n",
       "434                  N       No       7      72423 Surrey Street      3753   \n",
       "439                  N      Yes      14         3686 Waubesa Way      3065   \n",
       "574                  N       No      12  0307 Namekagon Crossing      2170   \n",
       "598                  N       No       5           882 Toban Lane      2121   \n",
       "664                  N      Yes       0        5 Red Cloud Place      3222   \n",
       "751                  N      Yes      14         82 Gina Junction      3806   \n",
       "775                  N       No       5     95960 Warner Parkway      3842   \n",
       "835                  N       No      13     768 Southridge Drive      2112   \n",
       "883                  N       No       2     01 Bunker Hill Drive      2230   \n",
       "904                  N       No       2         276 Anthes Court      2450   \n",
       "984                  N      Yes       0       9594 Badeau Street      2050   \n",
       "\n",
       "    state    country  property_valuation  Rank     Value  \n",
       "59    VIC  Australia                   5    57  1.375000  \n",
       "226   NSW  Australia                   9   226  1.112500  \n",
       "324   VIC  Australia                   3   324  1.010000  \n",
       "358   QLD  Australia                   8   358  0.980000  \n",
       "360   VIC  Australia                   7   361  0.977500  \n",
       "374   QLD  Australia                   6   375  0.960000  \n",
       "434   VIC  Australia                   5   433  0.906250  \n",
       "439   VIC  Australia                   6   436  0.903125  \n",
       "574   NSW  Australia                   7   575  0.796875  \n",
       "598   NSW  Australia                  11   599  0.775000  \n",
       "664   VIC  Australia                   4   662  0.711875  \n",
       "751   VIC  Australia                   7   751  0.648125  \n",
       "775   VIC  Australia                   1   774  0.626875  \n",
       "835   NSW  Australia                  11   832  0.575000  \n",
       "883   NSW  Australia                  10   883  0.531250  \n",
       "904   NSW  Australia                   6   904  0.500000  \n",
       "984   NSW  Australia                  10   985  0.408000  "
      ]
     },
     "execution_count": 38,
     "metadata": {},
     "output_type": "execute_result"
    }
   ],
   "source": [
    "NewCustomerList[NewCustomerList.gender=='U']"
   ]
  },
  {
   "cell_type": "markdown",
   "id": "7d434ad9",
   "metadata": {},
   "source": [
    "By examine their is 17 unknown and unspecified gender"
   ]
  },
  {
   "cell_type": "code",
   "execution_count": 39,
   "id": "6e2b54a3",
   "metadata": {},
   "outputs": [
    {
     "data": {
      "text/plain": [
       "Financial Services    203\n",
       "Manufacturing         199\n",
       "Health                152\n",
       "Retail                 78\n",
       "Property               64\n",
       "IT                     51\n",
       "Entertainment          37\n",
       "Argiculture            26\n",
       "Telecommunications     25\n",
       "Name: job_industry_category, dtype: int64"
      ]
     },
     "execution_count": 39,
     "metadata": {},
     "output_type": "execute_result"
    }
   ],
   "source": [
    "NewCustomerList['job_industry_category'].value_counts()"
   ]
  },
  {
   "cell_type": "code",
   "execution_count": 40,
   "id": "4689e3a5",
   "metadata": {},
   "outputs": [
    {
     "data": {
      "text/plain": [
       "Mass Customer        508\n",
       "High Net Worth       251\n",
       "Affluent Customer    241\n",
       "Name: wealth_segment, dtype: int64"
      ]
     },
     "execution_count": 40,
     "metadata": {},
     "output_type": "execute_result"
    }
   ],
   "source": [
    "NewCustomerList['wealth_segment'].value_counts()"
   ]
  },
  {
   "cell_type": "code",
   "execution_count": 41,
   "id": "993bfc04",
   "metadata": {},
   "outputs": [
    {
     "data": {
      "text/plain": [
       "NSW    506\n",
       "VIC    266\n",
       "QLD    228\n",
       "Name: state, dtype: int64"
      ]
     },
     "execution_count": 41,
     "metadata": {},
     "output_type": "execute_result"
    }
   ],
   "source": [
    "NewCustomerList['state'].value_counts()"
   ]
  },
  {
   "cell_type": "code",
   "execution_count": 42,
   "id": "31cb87de",
   "metadata": {},
   "outputs": [
    {
     "data": {
      "text/plain": [
       "No     507\n",
       "Yes    493\n",
       "Name: owns_car, dtype: int64"
      ]
     },
     "execution_count": 42,
     "metadata": {},
     "output_type": "execute_result"
    }
   ],
   "source": [
    "NewCustomerList['owns_car'].value_counts()"
   ]
  },
  {
   "cell_type": "code",
   "execution_count": 43,
   "id": "93c08aae",
   "metadata": {},
   "outputs": [
    {
     "data": {
      "text/plain": [
       "N    1000\n",
       "Name: deceased_indicator, dtype: int64"
      ]
     },
     "execution_count": 43,
     "metadata": {},
     "output_type": "execute_result"
    }
   ],
   "source": [
    "NewCustomerList['deceased_indicator'].value_counts()"
   ]
  },
  {
   "cell_type": "markdown",
   "id": "d778b7c4",
   "metadata": {},
   "source": [
    "So here Our New CustomerList Dataset data quality Examine is Over . Now we Move towards the next dataset."
   ]
  },
  {
   "cell_type": "markdown",
   "id": "a6217241",
   "metadata": {},
   "source": [
    "### Customer Demographic Dataset"
   ]
  },
  {
   "cell_type": "code",
   "execution_count": 44,
   "id": "0fa3c37c",
   "metadata": {},
   "outputs": [
    {
     "data": {
      "text/html": [
       "<div>\n",
       "<style scoped>\n",
       "    .dataframe tbody tr th:only-of-type {\n",
       "        vertical-align: middle;\n",
       "    }\n",
       "\n",
       "    .dataframe tbody tr th {\n",
       "        vertical-align: top;\n",
       "    }\n",
       "\n",
       "    .dataframe thead th {\n",
       "        text-align: right;\n",
       "    }\n",
       "</style>\n",
       "<table border=\"1\" class=\"dataframe\">\n",
       "  <thead>\n",
       "    <tr style=\"text-align: right;\">\n",
       "      <th></th>\n",
       "      <th>customer_id</th>\n",
       "      <th>first_name</th>\n",
       "      <th>last_name</th>\n",
       "      <th>gender</th>\n",
       "      <th>past_3_years_bike_related_purchases</th>\n",
       "      <th>DOB</th>\n",
       "      <th>job_title</th>\n",
       "      <th>job_industry_category</th>\n",
       "      <th>wealth_segment</th>\n",
       "      <th>deceased_indicator</th>\n",
       "      <th>default</th>\n",
       "      <th>owns_car</th>\n",
       "      <th>tenure</th>\n",
       "    </tr>\n",
       "  </thead>\n",
       "  <tbody>\n",
       "    <tr>\n",
       "      <th>0</th>\n",
       "      <td>720</td>\n",
       "      <td>Darrel</td>\n",
       "      <td>Canet</td>\n",
       "      <td>Male</td>\n",
       "      <td>67</td>\n",
       "      <td>1931-10-23</td>\n",
       "      <td>Recruiting Manager</td>\n",
       "      <td>Retail</td>\n",
       "      <td>Affluent Customer</td>\n",
       "      <td>N</td>\n",
       "      <td>1;DROP TABLE users</td>\n",
       "      <td>No</td>\n",
       "      <td>6.0</td>\n",
       "    </tr>\n",
       "    <tr>\n",
       "      <th>1</th>\n",
       "      <td>1092</td>\n",
       "      <td>Katlin</td>\n",
       "      <td>Creddon</td>\n",
       "      <td>Female</td>\n",
       "      <td>56</td>\n",
       "      <td>1935-08-22</td>\n",
       "      <td>VP Quality Control</td>\n",
       "      <td>Retail</td>\n",
       "      <td>Mass Customer</td>\n",
       "      <td>N</td>\n",
       "      <td>ì¬íê³¼íì ì´íì°êµ¬ì</td>\n",
       "      <td>No</td>\n",
       "      <td>5.0</td>\n",
       "    </tr>\n",
       "    <tr>\n",
       "      <th>2</th>\n",
       "      <td>3410</td>\n",
       "      <td>Merrili</td>\n",
       "      <td>Brittin</td>\n",
       "      <td>Female</td>\n",
       "      <td>93</td>\n",
       "      <td>1940-09-22</td>\n",
       "      <td>NaN</td>\n",
       "      <td>Property</td>\n",
       "      <td>Mass Customer</td>\n",
       "      <td>N</td>\n",
       "      <td>á</td>\n",
       "      <td>No</td>\n",
       "      <td>16.0</td>\n",
       "    </tr>\n",
       "    <tr>\n",
       "      <th>3</th>\n",
       "      <td>2413</td>\n",
       "      <td>Abbey</td>\n",
       "      <td>Murrow</td>\n",
       "      <td>Male</td>\n",
       "      <td>27</td>\n",
       "      <td>1943-08-11</td>\n",
       "      <td>Environmental Specialist</td>\n",
       "      <td>Manufacturing</td>\n",
       "      <td>High Net Worth</td>\n",
       "      <td>N</td>\n",
       "      <td>á</td>\n",
       "      <td>Yes</td>\n",
       "      <td>17.0</td>\n",
       "    </tr>\n",
       "    <tr>\n",
       "      <th>4</th>\n",
       "      <td>658</td>\n",
       "      <td>Donn</td>\n",
       "      <td>Bonnell</td>\n",
       "      <td>Male</td>\n",
       "      <td>38</td>\n",
       "      <td>1944-01-24</td>\n",
       "      <td>Tax Accountant</td>\n",
       "      <td>Manufacturing</td>\n",
       "      <td>Affluent Customer</td>\n",
       "      <td>N</td>\n",
       "      <td>ì¬íê³¼íì ì´íì°êµ¬ì</td>\n",
       "      <td>Yes</td>\n",
       "      <td>8.0</td>\n",
       "    </tr>\n",
       "  </tbody>\n",
       "</table>\n",
       "</div>"
      ],
      "text/plain": [
       "   customer_id first_name last_name  gender  \\\n",
       "0          720     Darrel     Canet    Male   \n",
       "1         1092     Katlin   Creddon  Female   \n",
       "2         3410    Merrili   Brittin  Female   \n",
       "3         2413      Abbey    Murrow    Male   \n",
       "4          658       Donn   Bonnell    Male   \n",
       "\n",
       "   past_3_years_bike_related_purchases        DOB                 job_title  \\\n",
       "0                                   67 1931-10-23        Recruiting Manager   \n",
       "1                                   56 1935-08-22        VP Quality Control   \n",
       "2                                   93 1940-09-22                       NaN   \n",
       "3                                   27 1943-08-11  Environmental Specialist   \n",
       "4                                   38 1944-01-24            Tax Accountant   \n",
       "\n",
       "  job_industry_category     wealth_segment deceased_indicator  \\\n",
       "0                Retail  Affluent Customer                  N   \n",
       "1                Retail      Mass Customer                  N   \n",
       "2              Property      Mass Customer                  N   \n",
       "3         Manufacturing     High Net Worth                  N   \n",
       "4         Manufacturing  Affluent Customer                  N   \n",
       "\n",
       "              default owns_car  tenure  \n",
       "0  1;DROP TABLE users       No     6.0  \n",
       "1  ì¬íê³¼íì ì´íì°êµ¬ì       No     5.0  \n",
       "2                   á       No    16.0  \n",
       "3                  á       Yes    17.0  \n",
       "4  ì¬íê³¼íì ì´íì°êµ¬ì      Yes     8.0  "
      ]
     },
     "execution_count": 44,
     "metadata": {},
     "output_type": "execute_result"
    }
   ],
   "source": [
    "CustomerDemographic.head()"
   ]
  },
  {
   "cell_type": "code",
   "execution_count": 45,
   "id": "86f4a3d8",
   "metadata": {},
   "outputs": [
    {
     "name": "stdout",
     "output_type": "stream",
     "text": [
      "<class 'pandas.core.frame.DataFrame'>\n",
      "RangeIndex: 4000 entries, 0 to 3999\n",
      "Data columns (total 13 columns):\n",
      " #   Column                               Non-Null Count  Dtype         \n",
      "---  ------                               --------------  -----         \n",
      " 0   customer_id                          4000 non-null   int64         \n",
      " 1   first_name                           4000 non-null   object        \n",
      " 2   last_name                            3875 non-null   object        \n",
      " 3   gender                               4000 non-null   object        \n",
      " 4   past_3_years_bike_related_purchases  4000 non-null   int64         \n",
      " 5   DOB                                  3913 non-null   datetime64[ns]\n",
      " 6   job_title                            3494 non-null   object        \n",
      " 7   job_industry_category                3344 non-null   object        \n",
      " 8   wealth_segment                       4000 non-null   object        \n",
      " 9   deceased_indicator                   4000 non-null   object        \n",
      " 10  default                              3698 non-null   object        \n",
      " 11  owns_car                             4000 non-null   object        \n",
      " 12  tenure                               3913 non-null   float64       \n",
      "dtypes: datetime64[ns](1), float64(1), int64(2), object(9)\n",
      "memory usage: 406.4+ KB\n"
     ]
    }
   ],
   "source": [
    "CustomerDemographic.info()"
   ]
  },
  {
   "cell_type": "code",
   "execution_count": 46,
   "id": "b8b6a049",
   "metadata": {},
   "outputs": [
    {
     "data": {
      "text/plain": [
       "<bound method NDFrame.describe of       customer_id first_name  last_name  gender  \\\n",
       "0             720     Darrel      Canet    Male   \n",
       "1            1092     Katlin    Creddon  Female   \n",
       "2            3410    Merrili    Brittin  Female   \n",
       "3            2413      Abbey     Murrow    Male   \n",
       "4             658       Donn    Bonnell    Male   \n",
       "...           ...        ...        ...     ...   \n",
       "3995         3779      Ulick     Daspar       U   \n",
       "3996         3883      Nissa     Conrad       U   \n",
       "3997         3931      Kylie      Epine       U   \n",
       "3998         3935     Teodor  Alfonsini       U   \n",
       "3999         3998     Sarene    Woolley       U   \n",
       "\n",
       "      past_3_years_bike_related_purchases        DOB  \\\n",
       "0                                      67 1931-10-23   \n",
       "1                                      56 1935-08-22   \n",
       "2                                      93 1940-09-22   \n",
       "3                                      27 1943-08-11   \n",
       "4                                      38 1944-01-24   \n",
       "...                                   ...        ...   \n",
       "3995                                   68        NaT   \n",
       "3996                                   35        NaT   \n",
       "3997                                   19        NaT   \n",
       "3998                                   72        NaT   \n",
       "3999                                   60        NaT   \n",
       "\n",
       "                     job_title job_industry_category     wealth_segment  \\\n",
       "0           Recruiting Manager                Retail  Affluent Customer   \n",
       "1           VP Quality Control                Retail      Mass Customer   \n",
       "2                          NaN              Property      Mass Customer   \n",
       "3     Environmental Specialist         Manufacturing     High Net Worth   \n",
       "4               Tax Accountant         Manufacturing  Affluent Customer   \n",
       "...                        ...                   ...                ...   \n",
       "3995                       NaN                    IT  Affluent Customer   \n",
       "3996           Legal Assistant                    IT      Mass Customer   \n",
       "3997                       NaN                    IT     High Net Worth   \n",
       "3998                       NaN                    IT     High Net Worth   \n",
       "3999         Assistant Manager                    IT     High Net Worth   \n",
       "\n",
       "     deceased_indicator             default owns_car  tenure  \n",
       "0                     N  1;DROP TABLE users       No     6.0  \n",
       "1                     N  ì¬íê³¼íì ì´íì°êµ¬ì       No     5.0  \n",
       "2                     N                   á       No    16.0  \n",
       "3                     N                  á       Yes    17.0  \n",
       "4                     N  ì¬íê³¼íì ì´íì°êµ¬ì      Yes     8.0  \n",
       "...                 ...                 ...      ...     ...  \n",
       "3995                  N                 NaN       No     NaN  \n",
       "3996                  N                 NaN       No     NaN  \n",
       "3997                  N                 NaN      Yes     NaN  \n",
       "3998                  N                 NaN      Yes     NaN  \n",
       "3999                  N                 NaN       No     NaN  \n",
       "\n",
       "[4000 rows x 13 columns]>"
      ]
     },
     "execution_count": 46,
     "metadata": {},
     "output_type": "execute_result"
    }
   ],
   "source": [
    "CustomerDemographic.describe"
   ]
  },
  {
   "cell_type": "code",
   "execution_count": 48,
   "id": "6dce175b",
   "metadata": {},
   "outputs": [
    {
     "data": {
      "text/plain": [
       "(4000, 13)"
      ]
     },
     "execution_count": 48,
     "metadata": {},
     "output_type": "execute_result"
    }
   ],
   "source": [
    "CustomerDemographic.shape"
   ]
  },
  {
   "cell_type": "code",
   "execution_count": 50,
   "id": "c54685ef",
   "metadata": {},
   "outputs": [
    {
     "data": {
      "text/plain": [
       "Index(['customer_id', 'first_name', 'last_name', 'gender',\n",
       "       'past_3_years_bike_related_purchases', 'DOB', 'job_title',\n",
       "       'job_industry_category', 'wealth_segment', 'deceased_indicator',\n",
       "       'default', 'owns_car', 'tenure'],\n",
       "      dtype='object')"
      ]
     },
     "execution_count": 50,
     "metadata": {},
     "output_type": "execute_result"
    }
   ],
   "source": [
    "CustomerDemographic.columns"
   ]
  },
  {
   "cell_type": "code",
   "execution_count": 51,
   "id": "704a2e7a",
   "metadata": {},
   "outputs": [
    {
     "data": {
      "text/plain": [
       "customer_id                                     int64\n",
       "first_name                                     object\n",
       "last_name                                      object\n",
       "gender                                         object\n",
       "past_3_years_bike_related_purchases             int64\n",
       "DOB                                    datetime64[ns]\n",
       "job_title                                      object\n",
       "job_industry_category                          object\n",
       "wealth_segment                                 object\n",
       "deceased_indicator                             object\n",
       "default                                        object\n",
       "owns_car                                       object\n",
       "tenure                                        float64\n",
       "dtype: object"
      ]
     },
     "execution_count": 51,
     "metadata": {},
     "output_type": "execute_result"
    }
   ],
   "source": [
    "CustomerDemographic.dtypes"
   ]
  },
  {
   "cell_type": "code",
   "execution_count": 47,
   "id": "772aaef8",
   "metadata": {},
   "outputs": [
    {
     "data": {
      "text/plain": [
       "customer_id                              0\n",
       "first_name                               0\n",
       "last_name                              125\n",
       "gender                                   0\n",
       "past_3_years_bike_related_purchases      0\n",
       "DOB                                     87\n",
       "job_title                              506\n",
       "job_industry_category                  656\n",
       "wealth_segment                           0\n",
       "deceased_indicator                       0\n",
       "default                                302\n",
       "owns_car                                 0\n",
       "tenure                                  87\n",
       "dtype: int64"
      ]
     },
     "execution_count": 47,
     "metadata": {},
     "output_type": "execute_result"
    }
   ],
   "source": [
    "CustomerDemographic.isnull().sum()"
   ]
  },
  {
   "cell_type": "markdown",
   "id": "59792c17",
   "metadata": {},
   "source": [
    "In that table there are missing value in 6 column. next remove all missing value."
   ]
  },
  {
   "cell_type": "code",
   "execution_count": 52,
   "id": "4c664c1d",
   "metadata": {},
   "outputs": [
    {
     "data": {
      "text/plain": [
       "0"
      ]
     },
     "execution_count": 52,
     "metadata": {},
     "output_type": "execute_result"
    }
   ],
   "source": [
    "CustomerDemographic.duplicated().sum()"
   ]
  },
  {
   "cell_type": "markdown",
   "id": "79a65f4d",
   "metadata": {},
   "source": [
    "There is no duplicate value present in this data"
   ]
  },
  {
   "cell_type": "code",
   "execution_count": 53,
   "id": "9aaddab9",
   "metadata": {},
   "outputs": [
    {
     "data": {
      "text/plain": [
       "customer_id                            4000\n",
       "first_name                             3139\n",
       "last_name                              3725\n",
       "gender                                    6\n",
       "past_3_years_bike_related_purchases     100\n",
       "DOB                                    3448\n",
       "job_title                               195\n",
       "job_industry_category                     9\n",
       "wealth_segment                            3\n",
       "deceased_indicator                        2\n",
       "default                                  90\n",
       "owns_car                                  2\n",
       "tenure                                   22\n",
       "dtype: int64"
      ]
     },
     "execution_count": 53,
     "metadata": {},
     "output_type": "execute_result"
    }
   ],
   "source": [
    "#unique value\n",
    "CustomerDemographic.nunique()"
   ]
  },
  {
   "cell_type": "markdown",
   "id": "0e3a9e8f",
   "metadata": {},
   "source": [
    "Exploring cloumns"
   ]
  },
  {
   "cell_type": "code",
   "execution_count": 54,
   "id": "7fae09c6",
   "metadata": {},
   "outputs": [
    {
     "data": {
      "text/plain": [
       "Index(['customer_id', 'first_name', 'last_name', 'gender',\n",
       "       'past_3_years_bike_related_purchases', 'DOB', 'job_title',\n",
       "       'job_industry_category', 'wealth_segment', 'deceased_indicator',\n",
       "       'default', 'owns_car', 'tenure'],\n",
       "      dtype='object')"
      ]
     },
     "execution_count": 54,
     "metadata": {},
     "output_type": "execute_result"
    }
   ],
   "source": [
    "CustomerDemographic.columns"
   ]
  },
  {
   "cell_type": "code",
   "execution_count": 55,
   "id": "14bdb11a",
   "metadata": {},
   "outputs": [
    {
     "data": {
      "text/plain": [
       "Female    2037\n",
       "Male      1872\n",
       "U           88\n",
       "F            1\n",
       "Femal        1\n",
       "M            1\n",
       "Name: gender, dtype: int64"
      ]
     },
     "execution_count": 55,
     "metadata": {},
     "output_type": "execute_result"
    }
   ],
   "source": [
    "CustomerDemographic['gender'].value_counts()"
   ]
  },
  {
   "cell_type": "markdown",
   "id": "da27927e",
   "metadata": {},
   "source": [
    "In that gender column their are some incorrect title. so then rename all"
   ]
  },
  {
   "cell_type": "code",
   "execution_count": 57,
   "id": "a49bab77",
   "metadata": {},
   "outputs": [],
   "source": [
    "CustomerDemographic['gender']=CustomerDemographic['gender'].replace('F','Female').replace('Femal','Female').replace('M','Male')"
   ]
  },
  {
   "cell_type": "code",
   "execution_count": 58,
   "id": "6e310096",
   "metadata": {},
   "outputs": [
    {
     "data": {
      "text/plain": [
       "Female    2039\n",
       "Male      1873\n",
       "U           88\n",
       "Name: gender, dtype: int64"
      ]
     },
     "execution_count": 58,
     "metadata": {},
     "output_type": "execute_result"
    }
   ],
   "source": [
    "CustomerDemographic['gender'].value_counts()"
   ]
  },
  {
   "cell_type": "code",
   "execution_count": 59,
   "id": "64248bf6",
   "metadata": {},
   "outputs": [
    {
     "data": {
      "text/plain": [
       "16    56\n",
       "19    56\n",
       "67    54\n",
       "20    54\n",
       "2     50\n",
       "      ..\n",
       "8     28\n",
       "86    27\n",
       "85    27\n",
       "95    27\n",
       "92    24\n",
       "Name: past_3_years_bike_related_purchases, Length: 100, dtype: int64"
      ]
     },
     "execution_count": 59,
     "metadata": {},
     "output_type": "execute_result"
    }
   ],
   "source": [
    "CustomerDemographic['past_3_years_bike_related_purchases'].value_counts()"
   ]
  },
  {
   "cell_type": "code",
   "execution_count": 60,
   "id": "b77b1749",
   "metadata": {},
   "outputs": [
    {
     "data": {
      "text/plain": [
       "1978-01-30    7\n",
       "1978-08-19    4\n",
       "1976-09-25    4\n",
       "1976-07-16    4\n",
       "1962-12-17    4\n",
       "             ..\n",
       "1972-07-11    1\n",
       "1972-07-17    1\n",
       "1972-07-26    1\n",
       "1972-07-30    1\n",
       "1843-12-21    1\n",
       "Name: DOB, Length: 3448, dtype: int64"
      ]
     },
     "execution_count": 60,
     "metadata": {},
     "output_type": "execute_result"
    }
   ],
   "source": [
    "CustomerDemographic['DOB'].value_counts()"
   ]
  },
  {
   "cell_type": "code",
   "execution_count": 61,
   "id": "73a6cfda",
   "metadata": {},
   "outputs": [
    {
     "data": {
      "text/plain": [
       "Business Systems Development Analyst    45\n",
       "Social Worker                           44\n",
       "Tax Accountant                          44\n",
       "Internal Auditor                        42\n",
       "Legal Assistant                         41\n",
       "                                        ..\n",
       "Human Resources Assistant IV             4\n",
       "Research Assistant III                   3\n",
       "Health Coach I                           3\n",
       "Health Coach III                         3\n",
       "Developer I                              1\n",
       "Name: job_title, Length: 195, dtype: int64"
      ]
     },
     "execution_count": 61,
     "metadata": {},
     "output_type": "execute_result"
    }
   ],
   "source": [
    "CustomerDemographic['job_title'].value_counts()"
   ]
  },
  {
   "cell_type": "code",
   "execution_count": 62,
   "id": "8229ab48",
   "metadata": {},
   "outputs": [
    {
     "data": {
      "text/plain": [
       "Manufacturing         799\n",
       "Financial Services    774\n",
       "Health                602\n",
       "Retail                358\n",
       "Property              267\n",
       "IT                    223\n",
       "Entertainment         136\n",
       "Argiculture           113\n",
       "Telecommunications     72\n",
       "Name: job_industry_category, dtype: int64"
      ]
     },
     "execution_count": 62,
     "metadata": {},
     "output_type": "execute_result"
    }
   ],
   "source": [
    "CustomerDemographic['job_industry_category'].value_counts()"
   ]
  },
  {
   "cell_type": "code",
   "execution_count": 63,
   "id": "455c8a5b",
   "metadata": {},
   "outputs": [
    {
     "data": {
      "text/plain": [
       "Mass Customer        2000\n",
       "High Net Worth       1021\n",
       "Affluent Customer     979\n",
       "Name: wealth_segment, dtype: int64"
      ]
     },
     "execution_count": 63,
     "metadata": {},
     "output_type": "execute_result"
    }
   ],
   "source": [
    "CustomerDemographic['wealth_segment'].value_counts()"
   ]
  },
  {
   "cell_type": "code",
   "execution_count": 64,
   "id": "25937987",
   "metadata": {},
   "outputs": [
    {
     "data": {
      "text/plain": [
       "N    3998\n",
       "Y       2\n",
       "Name: deceased_indicator, dtype: int64"
      ]
     },
     "execution_count": 64,
     "metadata": {},
     "output_type": "execute_result"
    }
   ],
   "source": [
    "\n",
    "CustomerDemographic['deceased_indicator'].value_counts()"
   ]
  },
  {
   "cell_type": "code",
   "execution_count": 65,
   "id": "452ed703",
   "metadata": {},
   "outputs": [
    {
     "data": {
      "text/plain": [
       "100                                       113\n",
       "1                                         112\n",
       "-1                                        111\n",
       "-100                                       99\n",
       "Ù¡Ù¢Ù£                                     53\n",
       "                                         ... \n",
       "<img src=x onerror=alert('hi') />          31\n",
       "/dev/null; touch /tmp/blns.fail ; echo     30\n",
       "âªâªtestâª                                 29\n",
       "ì¸ëë°í ë¥´                                 27\n",
       ",ãã»:*:ã»ãâ( â» Ï â» )ãã»:*:ã»ãâ           25\n",
       "Name: default, Length: 90, dtype: int64"
      ]
     },
     "execution_count": 65,
     "metadata": {},
     "output_type": "execute_result"
    }
   ],
   "source": [
    "CustomerDemographic['default'].value_counts()"
   ]
  },
  {
   "cell_type": "code",
   "execution_count": 66,
   "id": "d6d6107b",
   "metadata": {},
   "outputs": [],
   "source": [
    "CustomerDemographic=CustomerDemographic.drop('default', axis=1)"
   ]
  },
  {
   "cell_type": "code",
   "execution_count": 67,
   "id": "c9ff3a6a",
   "metadata": {},
   "outputs": [
    {
     "data": {
      "text/html": [
       "<div>\n",
       "<style scoped>\n",
       "    .dataframe tbody tr th:only-of-type {\n",
       "        vertical-align: middle;\n",
       "    }\n",
       "\n",
       "    .dataframe tbody tr th {\n",
       "        vertical-align: top;\n",
       "    }\n",
       "\n",
       "    .dataframe thead th {\n",
       "        text-align: right;\n",
       "    }\n",
       "</style>\n",
       "<table border=\"1\" class=\"dataframe\">\n",
       "  <thead>\n",
       "    <tr style=\"text-align: right;\">\n",
       "      <th></th>\n",
       "      <th>customer_id</th>\n",
       "      <th>first_name</th>\n",
       "      <th>last_name</th>\n",
       "      <th>gender</th>\n",
       "      <th>past_3_years_bike_related_purchases</th>\n",
       "      <th>DOB</th>\n",
       "      <th>job_title</th>\n",
       "      <th>job_industry_category</th>\n",
       "      <th>wealth_segment</th>\n",
       "      <th>deceased_indicator</th>\n",
       "      <th>owns_car</th>\n",
       "      <th>tenure</th>\n",
       "    </tr>\n",
       "  </thead>\n",
       "  <tbody>\n",
       "    <tr>\n",
       "      <th>0</th>\n",
       "      <td>720</td>\n",
       "      <td>Darrel</td>\n",
       "      <td>Canet</td>\n",
       "      <td>Male</td>\n",
       "      <td>67</td>\n",
       "      <td>1931-10-23</td>\n",
       "      <td>Recruiting Manager</td>\n",
       "      <td>Retail</td>\n",
       "      <td>Affluent Customer</td>\n",
       "      <td>N</td>\n",
       "      <td>No</td>\n",
       "      <td>6.0</td>\n",
       "    </tr>\n",
       "    <tr>\n",
       "      <th>1</th>\n",
       "      <td>1092</td>\n",
       "      <td>Katlin</td>\n",
       "      <td>Creddon</td>\n",
       "      <td>Female</td>\n",
       "      <td>56</td>\n",
       "      <td>1935-08-22</td>\n",
       "      <td>VP Quality Control</td>\n",
       "      <td>Retail</td>\n",
       "      <td>Mass Customer</td>\n",
       "      <td>N</td>\n",
       "      <td>No</td>\n",
       "      <td>5.0</td>\n",
       "    </tr>\n",
       "    <tr>\n",
       "      <th>2</th>\n",
       "      <td>3410</td>\n",
       "      <td>Merrili</td>\n",
       "      <td>Brittin</td>\n",
       "      <td>Female</td>\n",
       "      <td>93</td>\n",
       "      <td>1940-09-22</td>\n",
       "      <td>NaN</td>\n",
       "      <td>Property</td>\n",
       "      <td>Mass Customer</td>\n",
       "      <td>N</td>\n",
       "      <td>No</td>\n",
       "      <td>16.0</td>\n",
       "    </tr>\n",
       "    <tr>\n",
       "      <th>3</th>\n",
       "      <td>2413</td>\n",
       "      <td>Abbey</td>\n",
       "      <td>Murrow</td>\n",
       "      <td>Male</td>\n",
       "      <td>27</td>\n",
       "      <td>1943-08-11</td>\n",
       "      <td>Environmental Specialist</td>\n",
       "      <td>Manufacturing</td>\n",
       "      <td>High Net Worth</td>\n",
       "      <td>N</td>\n",
       "      <td>Yes</td>\n",
       "      <td>17.0</td>\n",
       "    </tr>\n",
       "    <tr>\n",
       "      <th>4</th>\n",
       "      <td>658</td>\n",
       "      <td>Donn</td>\n",
       "      <td>Bonnell</td>\n",
       "      <td>Male</td>\n",
       "      <td>38</td>\n",
       "      <td>1944-01-24</td>\n",
       "      <td>Tax Accountant</td>\n",
       "      <td>Manufacturing</td>\n",
       "      <td>Affluent Customer</td>\n",
       "      <td>N</td>\n",
       "      <td>Yes</td>\n",
       "      <td>8.0</td>\n",
       "    </tr>\n",
       "  </tbody>\n",
       "</table>\n",
       "</div>"
      ],
      "text/plain": [
       "   customer_id first_name last_name  gender  \\\n",
       "0          720     Darrel     Canet    Male   \n",
       "1         1092     Katlin   Creddon  Female   \n",
       "2         3410    Merrili   Brittin  Female   \n",
       "3         2413      Abbey    Murrow    Male   \n",
       "4          658       Donn   Bonnell    Male   \n",
       "\n",
       "   past_3_years_bike_related_purchases        DOB                 job_title  \\\n",
       "0                                   67 1931-10-23        Recruiting Manager   \n",
       "1                                   56 1935-08-22        VP Quality Control   \n",
       "2                                   93 1940-09-22                       NaN   \n",
       "3                                   27 1943-08-11  Environmental Specialist   \n",
       "4                                   38 1944-01-24            Tax Accountant   \n",
       "\n",
       "  job_industry_category     wealth_segment deceased_indicator owns_car  tenure  \n",
       "0                Retail  Affluent Customer                  N       No     6.0  \n",
       "1                Retail      Mass Customer                  N       No     5.0  \n",
       "2              Property      Mass Customer                  N       No    16.0  \n",
       "3         Manufacturing     High Net Worth                  N      Yes    17.0  \n",
       "4         Manufacturing  Affluent Customer                  N      Yes     8.0  "
      ]
     },
     "execution_count": 67,
     "metadata": {},
     "output_type": "execute_result"
    }
   ],
   "source": [
    "CustomerDemographic.head(5)"
   ]
  },
  {
   "cell_type": "code",
   "execution_count": 68,
   "id": "4cb4b9f0",
   "metadata": {},
   "outputs": [
    {
     "data": {
      "text/plain": [
       "Yes    2024\n",
       "No     1976\n",
       "Name: owns_car, dtype: int64"
      ]
     },
     "execution_count": 68,
     "metadata": {},
     "output_type": "execute_result"
    }
   ],
   "source": [
    "CustomerDemographic['owns_car'].value_counts()"
   ]
  },
  {
   "cell_type": "code",
   "execution_count": 69,
   "id": "bda484d3",
   "metadata": {},
   "outputs": [
    {
     "data": {
      "text/plain": [
       "7.0     235\n",
       "5.0     228\n",
       "11.0    221\n",
       "10.0    218\n",
       "16.0    215\n",
       "8.0     211\n",
       "18.0    208\n",
       "12.0    202\n",
       "9.0     200\n",
       "14.0    200\n",
       "6.0     192\n",
       "13.0    191\n",
       "4.0     191\n",
       "17.0    182\n",
       "15.0    179\n",
       "1.0     166\n",
       "3.0     160\n",
       "19.0    159\n",
       "2.0     150\n",
       "20.0     96\n",
       "22.0     55\n",
       "21.0     54\n",
       "Name: tenure, dtype: int64"
      ]
     },
     "execution_count": 69,
     "metadata": {},
     "output_type": "execute_result"
    }
   ],
   "source": [
    "CustomerDemographic['tenure'].value_counts()"
   ]
  },
  {
   "cell_type": "markdown",
   "id": "f8f53705",
   "metadata": {},
   "source": [
    "So here Our Customer Demographic Dataset data quality Examine is Over . Now we Move towards the next dataset."
   ]
  },
  {
   "cell_type": "markdown",
   "id": "b6532842",
   "metadata": {},
   "source": [
    "### CustomerAddress Dataset"
   ]
  },
  {
   "cell_type": "code",
   "execution_count": 70,
   "id": "86dff6e2",
   "metadata": {},
   "outputs": [
    {
     "data": {
      "text/html": [
       "<div>\n",
       "<style scoped>\n",
       "    .dataframe tbody tr th:only-of-type {\n",
       "        vertical-align: middle;\n",
       "    }\n",
       "\n",
       "    .dataframe tbody tr th {\n",
       "        vertical-align: top;\n",
       "    }\n",
       "\n",
       "    .dataframe thead th {\n",
       "        text-align: right;\n",
       "    }\n",
       "</style>\n",
       "<table border=\"1\" class=\"dataframe\">\n",
       "  <thead>\n",
       "    <tr style=\"text-align: right;\">\n",
       "      <th></th>\n",
       "      <th>customer_id</th>\n",
       "      <th>address</th>\n",
       "      <th>postcode</th>\n",
       "      <th>state</th>\n",
       "      <th>country</th>\n",
       "      <th>property_valuation</th>\n",
       "    </tr>\n",
       "  </thead>\n",
       "  <tbody>\n",
       "    <tr>\n",
       "      <th>0</th>\n",
       "      <td>1</td>\n",
       "      <td>060 Morning Avenue</td>\n",
       "      <td>2016</td>\n",
       "      <td>New South Wales</td>\n",
       "      <td>Australia</td>\n",
       "      <td>10</td>\n",
       "    </tr>\n",
       "    <tr>\n",
       "      <th>1</th>\n",
       "      <td>2</td>\n",
       "      <td>6 Meadow Vale Court</td>\n",
       "      <td>2153</td>\n",
       "      <td>New South Wales</td>\n",
       "      <td>Australia</td>\n",
       "      <td>10</td>\n",
       "    </tr>\n",
       "    <tr>\n",
       "      <th>2</th>\n",
       "      <td>4</td>\n",
       "      <td>0 Holy Cross Court</td>\n",
       "      <td>4211</td>\n",
       "      <td>QLD</td>\n",
       "      <td>Australia</td>\n",
       "      <td>9</td>\n",
       "    </tr>\n",
       "    <tr>\n",
       "      <th>3</th>\n",
       "      <td>5</td>\n",
       "      <td>17979 Del Mar Point</td>\n",
       "      <td>2448</td>\n",
       "      <td>New South Wales</td>\n",
       "      <td>Australia</td>\n",
       "      <td>4</td>\n",
       "    </tr>\n",
       "    <tr>\n",
       "      <th>4</th>\n",
       "      <td>6</td>\n",
       "      <td>9 Oakridge Court</td>\n",
       "      <td>3216</td>\n",
       "      <td>VIC</td>\n",
       "      <td>Australia</td>\n",
       "      <td>9</td>\n",
       "    </tr>\n",
       "  </tbody>\n",
       "</table>\n",
       "</div>"
      ],
      "text/plain": [
       "   customer_id              address  postcode            state    country  \\\n",
       "0            1   060 Morning Avenue      2016  New South Wales  Australia   \n",
       "1            2  6 Meadow Vale Court      2153  New South Wales  Australia   \n",
       "2            4   0 Holy Cross Court      4211              QLD  Australia   \n",
       "3            5  17979 Del Mar Point      2448  New South Wales  Australia   \n",
       "4            6     9 Oakridge Court      3216              VIC  Australia   \n",
       "\n",
       "   property_valuation  \n",
       "0                  10  \n",
       "1                  10  \n",
       "2                   9  \n",
       "3                   4  \n",
       "4                   9  "
      ]
     },
     "execution_count": 70,
     "metadata": {},
     "output_type": "execute_result"
    }
   ],
   "source": [
    "CustomerAddress.head(5)"
   ]
  },
  {
   "cell_type": "code",
   "execution_count": 71,
   "id": "f2f3f990",
   "metadata": {},
   "outputs": [
    {
     "name": "stdout",
     "output_type": "stream",
     "text": [
      "<class 'pandas.core.frame.DataFrame'>\n",
      "RangeIndex: 3999 entries, 0 to 3998\n",
      "Data columns (total 6 columns):\n",
      " #   Column              Non-Null Count  Dtype \n",
      "---  ------              --------------  ----- \n",
      " 0   customer_id         3999 non-null   int64 \n",
      " 1   address             3999 non-null   object\n",
      " 2   postcode            3999 non-null   int64 \n",
      " 3   state               3999 non-null   object\n",
      " 4   country             3999 non-null   object\n",
      " 5   property_valuation  3999 non-null   int64 \n",
      "dtypes: int64(3), object(3)\n",
      "memory usage: 187.6+ KB\n"
     ]
    }
   ],
   "source": [
    "CustomerAddress.info()"
   ]
  },
  {
   "cell_type": "code",
   "execution_count": 72,
   "id": "9b0e10c4",
   "metadata": {},
   "outputs": [
    {
     "data": {
      "text/plain": [
       "<bound method NDFrame.describe of       customer_id                    address  postcode            state  \\\n",
       "0               1         060 Morning Avenue      2016  New South Wales   \n",
       "1               2        6 Meadow Vale Court      2153  New South Wales   \n",
       "2               4         0 Holy Cross Court      4211              QLD   \n",
       "3               5        17979 Del Mar Point      2448  New South Wales   \n",
       "4               6           9 Oakridge Court      3216              VIC   \n",
       "...           ...                        ...       ...              ...   \n",
       "3994         3999            1482 Hauk Trail      3064              VIC   \n",
       "3995         4000  57042 Village Green Point      4511              QLD   \n",
       "3996         4001     87 Crescent Oaks Alley      2756              NSW   \n",
       "3997         4002           8194 Lien Street      4032              QLD   \n",
       "3998         4003            320 Acker Drive      2251              NSW   \n",
       "\n",
       "        country  property_valuation  \n",
       "0     Australia                  10  \n",
       "1     Australia                  10  \n",
       "2     Australia                   9  \n",
       "3     Australia                   4  \n",
       "4     Australia                   9  \n",
       "...         ...                 ...  \n",
       "3994  Australia                   3  \n",
       "3995  Australia                   6  \n",
       "3996  Australia                  10  \n",
       "3997  Australia                   7  \n",
       "3998  Australia                   7  \n",
       "\n",
       "[3999 rows x 6 columns]>"
      ]
     },
     "execution_count": 72,
     "metadata": {},
     "output_type": "execute_result"
    }
   ],
   "source": [
    "CustomerAddress.describe "
   ]
  },
  {
   "cell_type": "code",
   "execution_count": 73,
   "id": "1c7da49c",
   "metadata": {},
   "outputs": [
    {
     "data": {
      "text/plain": [
       "(3999, 6)"
      ]
     },
     "execution_count": 73,
     "metadata": {},
     "output_type": "execute_result"
    }
   ],
   "source": [
    "CustomerAddress.shape"
   ]
  },
  {
   "cell_type": "code",
   "execution_count": 74,
   "id": "2612f26b",
   "metadata": {},
   "outputs": [
    {
     "data": {
      "text/plain": [
       "Index(['customer_id', 'address', 'postcode', 'state', 'country',\n",
       "       'property_valuation'],\n",
       "      dtype='object')"
      ]
     },
     "execution_count": 74,
     "metadata": {},
     "output_type": "execute_result"
    }
   ],
   "source": [
    "CustomerAddress.columns "
   ]
  },
  {
   "cell_type": "code",
   "execution_count": 75,
   "id": "c975cfee",
   "metadata": {},
   "outputs": [
    {
     "data": {
      "text/plain": [
       "customer_id            int64\n",
       "address               object\n",
       "postcode               int64\n",
       "state                 object\n",
       "country               object\n",
       "property_valuation     int64\n",
       "dtype: object"
      ]
     },
     "execution_count": 75,
     "metadata": {},
     "output_type": "execute_result"
    }
   ],
   "source": [
    "CustomerAddress.dtypes"
   ]
  },
  {
   "cell_type": "code",
   "execution_count": 76,
   "id": "6b683e5d",
   "metadata": {},
   "outputs": [
    {
     "data": {
      "text/plain": [
       "customer_id           0\n",
       "address               0\n",
       "postcode              0\n",
       "state                 0\n",
       "country               0\n",
       "property_valuation    0\n",
       "dtype: int64"
      ]
     },
     "execution_count": 76,
     "metadata": {},
     "output_type": "execute_result"
    }
   ],
   "source": [
    "CustomerAddress.isnull().sum()"
   ]
  },
  {
   "cell_type": "markdown",
   "id": "a7dcb9ad",
   "metadata": {},
   "source": [
    "In that table 0 null value"
   ]
  },
  {
   "cell_type": "code",
   "execution_count": 77,
   "id": "9d15a6a2",
   "metadata": {},
   "outputs": [
    {
     "data": {
      "text/plain": [
       "0"
      ]
     },
     "execution_count": 77,
     "metadata": {},
     "output_type": "execute_result"
    }
   ],
   "source": [
    "CustomerAddress.duplicated().sum()"
   ]
  },
  {
   "cell_type": "markdown",
   "id": "f32ec24a",
   "metadata": {},
   "source": [
    "There is no duplicate value present in this data"
   ]
  },
  {
   "cell_type": "markdown",
   "id": "bee83960",
   "metadata": {},
   "source": [
    "Exploring the column"
   ]
  },
  {
   "cell_type": "code",
   "execution_count": 78,
   "id": "524ebaec",
   "metadata": {},
   "outputs": [
    {
     "data": {
      "text/plain": [
       "Index(['customer_id', 'address', 'postcode', 'state', 'country',\n",
       "       'property_valuation'],\n",
       "      dtype='object')"
      ]
     },
     "execution_count": 78,
     "metadata": {},
     "output_type": "execute_result"
    }
   ],
   "source": [
    "CustomerAddress.columns"
   ]
  },
  {
   "cell_type": "code",
   "execution_count": 79,
   "id": "072557ec",
   "metadata": {},
   "outputs": [
    {
     "data": {
      "text/plain": [
       "2170    31\n",
       "2155    30\n",
       "2145    30\n",
       "2153    29\n",
       "3977    26\n",
       "        ..\n",
       "3808     1\n",
       "3114     1\n",
       "4721     1\n",
       "4799     1\n",
       "3089     1\n",
       "Name: postcode, Length: 873, dtype: int64"
      ]
     },
     "execution_count": 79,
     "metadata": {},
     "output_type": "execute_result"
    }
   ],
   "source": [
    "CustomerAddress['postcode'].value_counts()"
   ]
  },
  {
   "cell_type": "code",
   "execution_count": 80,
   "id": "5eb3cf54",
   "metadata": {},
   "outputs": [
    {
     "data": {
      "text/plain": [
       "NSW                2054\n",
       "VIC                 939\n",
       "QLD                 838\n",
       "New South Wales      86\n",
       "Victoria             82\n",
       "Name: state, dtype: int64"
      ]
     },
     "execution_count": 80,
     "metadata": {},
     "output_type": "execute_result"
    }
   ],
   "source": [
    "CustomerAddress['state'].value_counts()"
   ]
  },
  {
   "cell_type": "code",
   "execution_count": 81,
   "id": "cb3b6c71",
   "metadata": {},
   "outputs": [
    {
     "data": {
      "text/plain": [
       "Australia    3999\n",
       "Name: country, dtype: int64"
      ]
     },
     "execution_count": 81,
     "metadata": {},
     "output_type": "execute_result"
    }
   ],
   "source": [
    "CustomerAddress['country'].value_counts()"
   ]
  },
  {
   "cell_type": "code",
   "execution_count": 82,
   "id": "ec6b04ee",
   "metadata": {},
   "outputs": [
    {
     "data": {
      "text/plain": [
       "9     647\n",
       "8     646\n",
       "10    577\n",
       "7     493\n",
       "11    281\n",
       "6     238\n",
       "5     225\n",
       "4     214\n",
       "12    195\n",
       "3     186\n",
       "1     154\n",
       "2     143\n",
       "Name: property_valuation, dtype: int64"
      ]
     },
     "execution_count": 82,
     "metadata": {},
     "output_type": "execute_result"
    }
   ],
   "source": [
    "CustomerAddress['property_valuation'].value_counts()"
   ]
  },
  {
   "cell_type": "markdown",
   "id": "75107027",
   "metadata": {},
   "source": [
    "So here finally our examine of All dataset are over now, and all our dataset  having correct information."
   ]
  },
  {
   "cell_type": "code",
   "execution_count": null,
   "id": "88c1ef71",
   "metadata": {},
   "outputs": [],
   "source": []
  }
 ],
 "metadata": {
  "kernelspec": {
   "display_name": "Python 3 (ipykernel)",
   "language": "python",
   "name": "python3"
  },
  "language_info": {
   "codemirror_mode": {
    "name": "ipython",
    "version": 3
   },
   "file_extension": ".py",
   "mimetype": "text/x-python",
   "name": "python",
   "nbconvert_exporter": "python",
   "pygments_lexer": "ipython3",
   "version": "3.10.9"
  }
 },
 "nbformat": 4,
 "nbformat_minor": 5
}
